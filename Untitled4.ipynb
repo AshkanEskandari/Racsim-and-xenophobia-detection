{
 "cells": [
  {
   "cell_type": "markdown",
   "metadata": {
    "collapsed": false,
    "jupyter": {
     "outputs_hidden": false
    }
   },
   "source": [
    "# Detecting Racism and Xenophobia in Text\n",
    "\n",
    "## Introduction\n",
    "This project aims to develop a deep learning model to detect racism and xenophobia in text data. The process involves gathering datasets, preprocessing text, labeling data, and training the model. This documentation outlines each step in detail, providing an overview of the methodologies used and the outcomes achieved.\n",
    "\n",
    "## Data Collection\n",
    "\n",
    "### Datasets Used\n",
    "\n",
    "1. **Ethos Hate Speech Dataset**:\n",
    "   - URL: [Ethos Dataset](https://raw.githubusercontent.com/intelligence-csd-auth-gr/Ethos-Hate-Speech-Dataset/master/ethos/ethos_dataEthos_Dataset_Multi_Label.csv)\n",
    "   - Description: Contains labels for racism and xenophobia.\n",
    "\n",
    "2. **HateEvalTeam Dataset**:\n",
    "   - URL: [HateEvalTeam Dataset](https://raw.githubusercontent.com/cicl2018/HateEvalTeam/master/Data%20Files/Data%20Files/%232%20Development-English-A/train_dev_en_merged.tsv)\n",
    "   - Description: A large dataset for hate speech detection without specific labels for racism and xenophobia.\n",
    "\n",
    "3. **NCBI Hate Speech Dataset**:\n",
    "   - URL: [NCBI Dataset](https://www.ncbi.nlm.nih.gov/pmc/articles/PMC9044360/)\n",
    "   - Description: This dataset was in Spanish and was translated to English using the Google API. It did not contain specific labels for racism and xenophobia.\n",
    "\n",
    "### Translation\n",
    "The NCBI dataset, originally in Spanish, was translated to English using the Google Translation API to ensure consistency in language across all datasets.\n",
    "\n",
    "## Data Labeling\n",
    "The Ethos dataset provided explicit labels for racism and xenophobia. However, the other datasets did not. The approach taken was:\n",
    "\n",
    "1. **Using Ethos Labels**: The Ethos dataset’s labels were used to train an initial model.\n",
    "2. **Self-Training for Label Propagation**: The trained model was then used to predict and label the unlabeled datasets.\n",
    "\n",
    "### Combining Datasets\n",
    "All three datasets were combined into a single dataset. The text data was vectorized using TF-IDF (Term Frequency-Inverse Document Frequency) with a maximum of 1000 features. This transformed text data was then used for training.\n",
    "\n",
    "### Setting Maximum Length\n",
    "The maximum length for text sequences was set to cover 95% of the text lengths in the dataset, ensuring most texts are included without excessive padding.\n",
    "\n",
    "## Model Training\n",
    "\n",
    "### Initial Training\n",
    "\n",
    "1. **Data Splitting**: The labeled data was split into training and validation sets.\n",
    "2. **Model Selection**: A RandomForestRegressor wrapped in a MultiOutputRegressor was chosen as the initial model to predict both racism and xenophobia labels.\n",
    "3. **Training**: The initial model was trained on the labeled data and evaluated using Mean Squared Error (MSE) on the validation set.\n",
    "\n",
    "### Self-Training for Unlabeled Data\n",
    "A self-training function was implemented to iteratively predict labels for the unlabeled data with high confidence. This process involved:\n",
    "\n",
    "1. Predicting the labels for the unlabeled data.\n",
    "2. Selecting the predictions with high confidence (above a defined threshold).\n",
    "3. Adding these high-confidence predictions to the labeled dataset.\n",
    "4. Retraining the model on the expanded labeled dataset.\n",
    "\n",
    "This process was repeated until no high-confidence predictions could be made.\n",
    "\n",
    "\n",
    "### Embedding Layer\n",
    "GloVe embeddings were used for text representation in the final deep learning model. Various neural network structures were experimented with to optimize performance.\n",
    "\n",
    "### Potential Use of Pre-trained Models\n",
    "To further enhance the model, pre-trained models like BERT (uncased) can be used. These models, pre-trained on large corpora, can offer better performance by leveraging transfer learning and rich contextual embeddings.\n",
    "\n",
    "\n",
    "### Observations\n",
    "- The datasets had an insufficient amount of text about specific groups, such as Muslims, which could affect model performance.\n",
    "- The iterative self-training approach improved the coverage of the labels across the combined dataset.\n",
    "\n",
    "### Future Work\n",
    "- Improve dataset diversity by incorporating more text samples related to various groups.\n",
    "- Experiment with more advanced deep learning architectures and hyperparameter tuning.\n",
    "- Explore transfer learning techniques by using pre-trained models like BERT to enhance model accuracy.\n",
    "\n",
    "## Conclusion\n",
    "This project successfully developed a model to detect racism and xenophobia in text by combining multiple datasets and employing a self-training methodology for labeling. While the model shows promising results, further improvements can be made by addressing dataset limitations and refining the model architecture.\n",
    "\n",
    "## References\n",
    "\n",
    "- Ethos Hate Speech Dataset: [Ethos Dataset](https://raw.githubusercontent.com/intelligence-csd-auth-gr/Ethos-Hate-Speech-Dataset/master/ethos/ethos_dataEthos_Dataset_Multi_Label.csv)\n",
    "- HateEvalTeam Dataset: [HateEvalTeam Dataset](https://raw.githubusercontent.com/cicl2018/HateEvalTeam/master/Data%20Files/Data%20Files/%232%20Development-English-A/train_dev_en_merged.tsv)\n",
    "- NCBI Hate Speech Dataset: [NCBI Dataset](https://www.ncbi.nlm.nih.gov/pmc/articles/PMC9044360/)\n"
   ]
  },
  {
   "cell_type": "code",
   "execution_count": 1,
   "metadata": {
    "ExecuteTime": {
     "end_time": "2024-05-25T07:21:12.561938800Z",
     "start_time": "2024-05-25T07:21:04.866725900Z"
    },
    "id": "itZ0WzqSVCxy"
   },
   "outputs": [],
   "source": [
    "from collections import defaultdict\n",
    "from tensorflow.keras.preprocessing.text import Tokenizer\n",
    "import tensorflow as tf\n",
    "from tensorflow.keras.layers import Conv1D, Bidirectional, LSTM, Dense, Input, Dropout, GlobalMaxPooling1D, Embedding, \\\n",
    "    GRU, Attention, BatchNormalization, MaxPooling1D, Flatten, LayerNormalization, Lambda, MultiHeadAttention\n",
    "from tensorflow.keras.layers import SpatialDropout1D\n",
    "from tensorflow.keras.callbacks import ModelCheckpoint\n",
    "from tensorflow.keras.optimizers import Adam\n",
    "from tensorflow.keras.callbacks import ReduceLROnPlateau\n",
    "from tensorflow.keras.regularizers import l2\n",
    "from tensorflow.keras.models import Model\n",
    "import pandas as pd\n",
    "import matplotlib.pyplot as plt\n",
    "import seaborn as sns\n",
    "\n",
    "pd.set_option('display.max_colwidth', None)\n",
    "from tensorflow.keras.preprocessing.sequence import pad_sequences\n",
    "import numpy as np\n",
    "import sklearn\n",
    "from sklearn.model_selection import train_test_split\n",
    "from sklearn.metrics import confusion_matrix, classification_report, accuracy_score, f1_score\n",
    "from sklearn.model_selection import RandomizedSearchCV\n",
    "\n",
    "from gensim.models import FastText\n",
    "from gensim.models.keyedvectors import KeyedVectors\n",
    "\n",
    "tf.random.set_seed(42)"
   ]
  },
  {
   "cell_type": "markdown",
   "metadata": {
    "id": "BuucYG3V9ACz"
   },
   "source": [
    "\n",
    "# Ethos dataset"
   ]
  },
  {
   "cell_type": "code",
   "execution_count": 2,
   "metadata": {
    "ExecuteTime": {
     "end_time": "2024-05-25T07:21:12.567454100Z",
     "start_time": "2024-05-25T07:21:12.562446Z"
    },
    "colab": {
     "base_uri": "https://localhost:8080/"
    },
    "id": "gYci8YrUKqBD",
    "outputId": "fd7e7271-d8ca-4895-9131-cf1f2a35f218"
   },
   "outputs": [],
   "source": [
    "\n",
    "# !wget --no-check-certificate https: // raw.githubusercontent.com/intelligence-csd-auth-gr/Ethos-Hate-Speech-Dataset/master/ethos/ethos_dataEthos_Dataset_Multi_Label.csv"
   ]
  },
  {
   "cell_type": "code",
   "execution_count": 3,
   "metadata": {
    "ExecuteTime": {
     "end_time": "2024-05-25T07:21:12.622292600Z",
     "start_time": "2024-05-25T07:21:12.567454100Z"
    },
    "id": "xhfk39MOL-zH"
   },
   "outputs": [],
   "source": [
    "df_ethos = pd.read_csv(\"../Docs/Ethos_Dataset_Multi_Label.csv\", delimiter=\";\")"
   ]
  },
  {
   "cell_type": "code",
   "execution_count": 4,
   "metadata": {
    "ExecuteTime": {
     "end_time": "2024-05-25T07:21:12.622292600Z",
     "start_time": "2024-05-25T07:21:12.615282800Z"
    },
    "colab": {
     "base_uri": "https://localhost:8080/"
    },
    "id": "W-kJbDjZMfxe",
    "outputId": "0b8cddfd-d312-448e-f757-f9859d8487a9"
   },
   "outputs": [],
   "source": [
    "df_ethos.drop(columns=['violence', 'directed_vs_generalized', 'gender', 'disability', 'religion', 'sexual_orientation'],\n",
    "              inplace=True)"
   ]
  },
  {
   "cell_type": "code",
   "execution_count": 5,
   "metadata": {
    "ExecuteTime": {
     "end_time": "2024-05-25T07:21:12.674498500Z",
     "start_time": "2024-05-25T07:21:12.620292300Z"
    },
    "collapsed": false,
    "jupyter": {
     "outputs_hidden": false
    }
   },
   "outputs": [
    {
     "data": {
      "text/html": [
       "<div>\n",
       "<style scoped>\n",
       "    .dataframe tbody tr th:only-of-type {\n",
       "        vertical-align: middle;\n",
       "    }\n",
       "\n",
       "    .dataframe tbody tr th {\n",
       "        vertical-align: top;\n",
       "    }\n",
       "\n",
       "    .dataframe thead th {\n",
       "        text-align: right;\n",
       "    }\n",
       "</style>\n",
       "<table border=\"1\" class=\"dataframe\">\n",
       "  <thead>\n",
       "    <tr style=\"text-align: right;\">\n",
       "      <th></th>\n",
       "      <th>comment</th>\n",
       "      <th>race</th>\n",
       "      <th>national_origin</th>\n",
       "    </tr>\n",
       "  </thead>\n",
       "  <tbody>\n",
       "    <tr>\n",
       "      <th>363</th>\n",
       "      <td>What imaginary gender are you?</td>\n",
       "      <td>0.0</td>\n",
       "      <td>0.0</td>\n",
       "    </tr>\n",
       "  </tbody>\n",
       "</table>\n",
       "</div>"
      ],
      "text/plain": [
       "                            comment  race  national_origin\n",
       "363  What imaginary gender are you?   0.0              0.0"
      ]
     },
     "execution_count": 5,
     "metadata": {},
     "output_type": "execute_result"
    }
   ],
   "source": [
    "df_ethos.sample()"
   ]
  },
  {
   "cell_type": "markdown",
   "metadata": {
    "id": "Thq1GqrA9D01"
   },
   "source": [
    "# HateEval dataset"
   ]
  },
  {
   "cell_type": "code",
   "execution_count": 6,
   "metadata": {
    "ExecuteTime": {
     "end_time": "2024-05-25T07:21:12.675498400Z",
     "start_time": "2024-05-25T07:21:12.638492600Z"
    },
    "collapsed": false,
    "jupyter": {
     "outputs_hidden": false
    }
   },
   "outputs": [],
   "source": [
    "# !wget https: // raw.githubusercontent.com/cicl2018/HateEvalTeam/master/Data % 20Files/Data % 20Files/ % 232 % 20Development-English-A/train_dev_en_merged.tsv"
   ]
  },
  {
   "cell_type": "code",
   "execution_count": 7,
   "metadata": {
    "ExecuteTime": {
     "end_time": "2024-05-25T07:21:12.825081200Z",
     "start_time": "2024-05-25T07:21:12.641500200Z"
    },
    "id": "mhsNt7PJShlG"
   },
   "outputs": [],
   "source": [
    "df_hateeval = pd.read_csv(\"../Docs/train_dev_en_merged.tsv\", delimiter=\"\\t\", encoding='utf-8')"
   ]
  },
  {
   "cell_type": "code",
   "execution_count": 8,
   "metadata": {
    "ExecuteTime": {
     "end_time": "2024-05-25T07:21:12.827083800Z",
     "start_time": "2024-05-25T07:21:12.685559300Z"
    },
    "colab": {
     "base_uri": "https://localhost:8080/"
    },
    "id": "-WgbJbVZSjxl",
    "outputId": "d16710cc-fa52-4914-ba2c-b0012e18b4dd"
   },
   "outputs": [
    {
     "data": {
      "text/plain": [
       "Index(['id', 'text', 'HS', 'TR', 'AG'], dtype='object')"
      ]
     },
     "execution_count": 8,
     "metadata": {},
     "output_type": "execute_result"
    }
   ],
   "source": [
    "df_hateeval.columns"
   ]
  },
  {
   "cell_type": "code",
   "execution_count": 9,
   "metadata": {
    "ExecuteTime": {
     "end_time": "2024-05-25T07:21:12.869078100Z",
     "start_time": "2024-05-25T07:21:12.695043900Z"
    },
    "id": "f0Gcz_uv9mfP"
   },
   "outputs": [],
   "source": [
    "df_hateeval.drop(columns=['HS', 'AG', 'TR'], inplace=True)"
   ]
  },
  {
   "cell_type": "code",
   "execution_count": 10,
   "metadata": {
    "ExecuteTime": {
     "end_time": "2024-05-25T07:21:12.871078200Z",
     "start_time": "2024-05-25T07:21:12.700563300Z"
    },
    "colab": {
     "base_uri": "https://localhost:8080/",
     "height": 98
    },
    "id": "1HL83dPS-YoU",
    "outputId": "e17a4364-eaed-4c39-fa40-fadaee8bffb9"
   },
   "outputs": [
    {
     "data": {
      "text/html": [
       "<div>\n",
       "<style scoped>\n",
       "    .dataframe tbody tr th:only-of-type {\n",
       "        vertical-align: middle;\n",
       "    }\n",
       "\n",
       "    .dataframe tbody tr th {\n",
       "        vertical-align: top;\n",
       "    }\n",
       "\n",
       "    .dataframe thead th {\n",
       "        text-align: right;\n",
       "    }\n",
       "</style>\n",
       "<table border=\"1\" class=\"dataframe\">\n",
       "  <thead>\n",
       "    <tr style=\"text-align: right;\">\n",
       "      <th></th>\n",
       "      <th>id</th>\n",
       "      <th>text</th>\n",
       "    </tr>\n",
       "  </thead>\n",
       "  <tbody>\n",
       "    <tr>\n",
       "      <th>0</th>\n",
       "      <td>201</td>\n",
       "      <td>Hurray, saving us $$$ in so many ways @potus @realDonaldTrump #LockThemUp #BuildTheWall #EndDACA #BoycottNFL #BoycottNike</td>\n",
       "    </tr>\n",
       "    <tr>\n",
       "      <th>1</th>\n",
       "      <td>202</td>\n",
       "      <td>Why would young fighting age men be the vast majority of the ones escaping a war &amp;amp; not those who cannot fight like women, children, and the elderly?It's because the majority of the refugees are not actually refugees they are economic migrants trying to get into Europe.... https://t.co/Ks0SHbtYqn</td>\n",
       "    </tr>\n",
       "  </tbody>\n",
       "</table>\n",
       "</div>"
      ],
      "text/plain": [
       "    id  \\\n",
       "0  201   \n",
       "1  202   \n",
       "\n",
       "                                                                                                                                                                                                                                                                                                           text  \n",
       "0                                                                                                                                                                                     Hurray, saving us $$$ in so many ways @potus @realDonaldTrump #LockThemUp #BuildTheWall #EndDACA #BoycottNFL #BoycottNike  \n",
       "1  Why would young fighting age men be the vast majority of the ones escaping a war &amp; not those who cannot fight like women, children, and the elderly?It's because the majority of the refugees are not actually refugees they are economic migrants trying to get into Europe.... https://t.co/Ks0SHbtYqn  "
      ]
     },
     "execution_count": 10,
     "metadata": {},
     "output_type": "execute_result"
    }
   ],
   "source": [
    "df_hateeval.head(2)"
   ]
  },
  {
   "cell_type": "markdown",
   "metadata": {
    "id": "BMYkv4iMALKG"
   },
   "source": [
    "# Spanish dataset"
   ]
  },
  {
   "cell_type": "code",
   "execution_count": 11,
   "metadata": {
    "ExecuteTime": {
     "end_time": "2024-05-25T07:21:12.919601300Z",
     "start_time": "2024-05-25T07:21:12.710167900Z"
    },
    "id": "b8w7cSf9AV8w"
   },
   "outputs": [],
   "source": [
    "# from googletrans import Translator\n",
    "\n",
    "\n",
    "# # Initialize the translator\n",
    "# translator = Translator()\n",
    "\n",
    "# # Function to translate text\n",
    "# def translate_text(text):\n",
    "#     try:\n",
    "#         return translator.translate(text, src='es', dest='en').text\n",
    "#     except:\n",
    "#         return text\n",
    "# # Apply translation to the relevant column\n",
    "# df_eng['text'] = df_eng['text'].apply(translate_text)\n",
    "\n",
    "# # Save the translated dataset\n",
    "# df_eng.to_csv('translated_dataset.csv', index=False)"
   ]
  },
  {
   "cell_type": "code",
   "execution_count": 12,
   "metadata": {
    "ExecuteTime": {
     "end_time": "2024-05-25T07:21:12.920601700Z",
     "start_time": "2024-05-25T07:21:12.714682100Z"
    },
    "id": "fplXgiAvAOAx"
   },
   "outputs": [],
   "source": [
    "df_eng = pd.read_csv(\"../Docs/translated_dataset.csv\", encoding='utf-8')"
   ]
  },
  {
   "cell_type": "code",
   "execution_count": 13,
   "metadata": {
    "ExecuteTime": {
     "end_time": "2024-05-25T07:21:12.920601700Z",
     "start_time": "2024-05-25T07:21:12.732592900Z"
    },
    "id": "sn6z0lS6Aav0"
   },
   "outputs": [],
   "source": [
    "df_eng.drop([\"Column1\", 'target'], axis=1, inplace=True)"
   ]
  },
  {
   "cell_type": "code",
   "execution_count": 14,
   "metadata": {
    "ExecuteTime": {
     "end_time": "2024-05-25T07:21:12.921602Z",
     "start_time": "2024-05-25T07:21:12.735602200Z"
    },
    "colab": {
     "base_uri": "https://localhost:8080/",
     "height": 115
    },
    "id": "YEDs-U-6AvtZ",
    "outputId": "3e0bb4ca-31d5-4e01-8733-d33bd87a0a74"
   },
   "outputs": [
    {
     "data": {
      "text/html": [
       "<div>\n",
       "<style scoped>\n",
       "    .dataframe tbody tr th:only-of-type {\n",
       "        vertical-align: middle;\n",
       "    }\n",
       "\n",
       "    .dataframe tbody tr th {\n",
       "        vertical-align: top;\n",
       "    }\n",
       "\n",
       "    .dataframe thead th {\n",
       "        text-align: right;\n",
       "    }\n",
       "</style>\n",
       "<table border=\"1\" class=\"dataframe\">\n",
       "  <thead>\n",
       "    <tr style=\"text-align: right;\">\n",
       "      <th></th>\n",
       "      <th>text</th>\n",
       "    </tr>\n",
       "  </thead>\n",
       "  <tbody>\n",
       "    <tr>\n",
       "      <th>1655</th>\n",
       "      <td>History with a good ending, for all.\\n\\nHungarian emigrant in the USA, who ends up going to work in Germany in a company founded by a Turkish immigrant.The emigrants ...\\n\\nhttps://t.co/n3ronhpxju</td>\n",
       "    </tr>\n",
       "  </tbody>\n",
       "</table>\n",
       "</div>"
      ],
      "text/plain": [
       "                                                                                                                                                                                                      text\n",
       "1655  History with a good ending, for all.\\n\\nHungarian emigrant in the USA, who ends up going to work in Germany in a company founded by a Turkish immigrant.The emigrants ...\\n\\nhttps://t.co/n3ronhpxju"
      ]
     },
     "execution_count": 14,
     "metadata": {},
     "output_type": "execute_result"
    }
   ],
   "source": [
    "df_eng.sample()"
   ]
  },
  {
   "cell_type": "markdown",
   "metadata": {
    "id": "_lvnrL9bBi8g"
   },
   "source": [
    "# Combine dataset"
   ]
  },
  {
   "cell_type": "code",
   "execution_count": 15,
   "metadata": {
    "ExecuteTime": {
     "end_time": "2024-05-25T07:21:12.921602Z",
     "start_time": "2024-05-25T07:21:12.744917600Z"
    },
    "id": "7S2uziKhBlhY"
   },
   "outputs": [],
   "source": [
    "# Rename columns to be consistent\n",
    "df_ethos.rename(columns={'comment': 'text', 'race': 'racism', 'national_origin': 'xenophobia'}, inplace=True)\n"
   ]
  },
  {
   "cell_type": "code",
   "execution_count": 16,
   "metadata": {
    "ExecuteTime": {
     "end_time": "2024-05-25T07:21:12.922602600Z",
     "start_time": "2024-05-25T07:21:12.756083600Z"
    },
    "colab": {
     "base_uri": "https://localhost:8080/"
    },
    "id": "nept6LEkCCFJ",
    "outputId": "b185a3e2-3360-4d23-c51c-5ab333d1cf7d"
   },
   "outputs": [
    {
     "data": {
      "text/plain": [
       "Index(['text', 'racism', 'xenophobia'], dtype='object')"
      ]
     },
     "execution_count": 16,
     "metadata": {},
     "output_type": "execute_result"
    }
   ],
   "source": [
    "df_ethos.columns"
   ]
  },
  {
   "cell_type": "code",
   "execution_count": 17,
   "metadata": {
    "ExecuteTime": {
     "end_time": "2024-05-25T07:21:12.923602600Z",
     "start_time": "2024-05-25T07:21:12.760598600Z"
    },
    "id": "7El56d8tCBD7"
   },
   "outputs": [],
   "source": [
    "# Concatenate DataFrames\n",
    "combined_df = pd.concat([df_hateeval, df_eng, df_ethos], ignore_index=True)"
   ]
  },
  {
   "cell_type": "code",
   "execution_count": 18,
   "metadata": {
    "ExecuteTime": {
     "end_time": "2024-05-25T07:21:12.923602600Z",
     "start_time": "2024-05-25T07:21:12.769372100Z"
    },
    "colab": {
     "base_uri": "https://localhost:8080/"
    },
    "id": "3UCdUFkvCZUV",
    "outputId": "1e5955fc-be69-4d0f-fe4d-90cc96bbfc66"
   },
   "outputs": [
    {
     "data": {
      "text/plain": [
       "Index(['id', 'text', 'racism', 'xenophobia'], dtype='object')"
      ]
     },
     "execution_count": 18,
     "metadata": {},
     "output_type": "execute_result"
    }
   ],
   "source": [
    "combined_df.columns"
   ]
  },
  {
   "cell_type": "code",
   "execution_count": 19,
   "metadata": {
    "ExecuteTime": {
     "end_time": "2024-05-25T07:21:12.924602600Z",
     "start_time": "2024-05-25T07:21:12.776838700Z"
    },
    "id": "aMHeGiamCH24"
   },
   "outputs": [],
   "source": [
    "combined_df.drop(['id'], axis=1, inplace=True)"
   ]
  },
  {
   "cell_type": "code",
   "execution_count": 20,
   "metadata": {
    "ExecuteTime": {
     "end_time": "2024-05-25T07:21:12.993423900Z",
     "start_time": "2024-05-25T07:21:12.784068Z"
    },
    "colab": {
     "base_uri": "https://localhost:8080/"
    },
    "id": "G9nC_L6-CdBb",
    "outputId": "f52cc1cd-806f-4906-c073-33197a289a44"
   },
   "outputs": [
    {
     "data": {
      "text/plain": [
       "(12433, 3)"
      ]
     },
     "execution_count": 20,
     "metadata": {},
     "output_type": "execute_result"
    }
   ],
   "source": [
    "combined_df.shape"
   ]
  },
  {
   "cell_type": "code",
   "execution_count": 21,
   "metadata": {
    "ExecuteTime": {
     "end_time": "2024-05-25T07:21:12.995415300Z",
     "start_time": "2024-05-25T07:21:12.789557600Z"
    },
    "colab": {
     "base_uri": "https://localhost:8080/",
     "height": 81
    },
    "id": "DIPU5tD4Ce3r",
    "outputId": "cc0f879d-11a9-4ec3-d26e-d5131c1a8fe2"
   },
   "outputs": [
    {
     "data": {
      "text/html": [
       "<div>\n",
       "<style scoped>\n",
       "    .dataframe tbody tr th:only-of-type {\n",
       "        vertical-align: middle;\n",
       "    }\n",
       "\n",
       "    .dataframe tbody tr th {\n",
       "        vertical-align: top;\n",
       "    }\n",
       "\n",
       "    .dataframe thead th {\n",
       "        text-align: right;\n",
       "    }\n",
       "</style>\n",
       "<table border=\"1\" class=\"dataframe\">\n",
       "  <thead>\n",
       "    <tr style=\"text-align: right;\">\n",
       "      <th></th>\n",
       "      <th>text</th>\n",
       "      <th>racism</th>\n",
       "      <th>xenophobia</th>\n",
       "    </tr>\n",
       "  </thead>\n",
       "  <tbody>\n",
       "    <tr>\n",
       "      <th>0</th>\n",
       "      <td>Hurray, saving us $$$ in so many ways @potus @realDonaldTrump #LockThemUp #BuildTheWall #EndDACA #BoycottNFL #BoycottNike</td>\n",
       "      <td>NaN</td>\n",
       "      <td>NaN</td>\n",
       "    </tr>\n",
       "  </tbody>\n",
       "</table>\n",
       "</div>"
      ],
      "text/plain": [
       "                                                                                                                        text  \\\n",
       "0  Hurray, saving us $$$ in so many ways @potus @realDonaldTrump #LockThemUp #BuildTheWall #EndDACA #BoycottNFL #BoycottNike   \n",
       "\n",
       "   racism  xenophobia  \n",
       "0     NaN         NaN  "
      ]
     },
     "execution_count": 21,
     "metadata": {},
     "output_type": "execute_result"
    }
   ],
   "source": [
    "combined_df.head(1)"
   ]
  },
  {
   "cell_type": "code",
   "execution_count": 22,
   "metadata": {
    "ExecuteTime": {
     "end_time": "2024-05-25T07:21:13.231977700Z",
     "start_time": "2024-05-25T07:21:12.805555100Z"
    },
    "collapsed": false,
    "jupyter": {
     "outputs_hidden": false
    }
   },
   "outputs": [],
   "source": [
    "# import numpy as np\n",
    "# import pandas as pd\n",
    "# from sklearn.model_selection import train_test_split, cross_val_score\n",
    "# from sklearn.ensemble import RandomForestRegressor, GradientBoostingRegressor\n",
    "# from sklearn.metrics import mean_squared_error\n",
    "# from sklearn.multioutput import MultiOutputRegressor\n",
    "# from sklearn.feature_extraction.text import TfidfVectorizer\n",
    "# from sklearn.pipeline import Pipeline\n",
    "# from sklearn.model_selection import GridSearchCV\n",
    "# \n",
    "# # Load your dataset\n",
    "# data = combined_df.copy()\n",
    "# \n",
    "# labeled_data = data.dropna(subset=['racism', 'xenophobia'])\n",
    "# unlabeled_data = data[data['racism'].isna() | data['xenophobia'].isna()]\n",
    "# \n",
    "# labeled_data['racism'] = labeled_data['racism'].astype(float)\n",
    "# labeled_data['xenophobia'] = labeled_data['xenophobia'].astype(float)\n",
    "# \n",
    "# # Features and labels\n",
    "# text_column = 'text'  # Assuming the text column is named 'text'\n",
    "# X_labeled_text = labeled_data[text_column]\n",
    "# y_labeled = labeled_data[['racism', 'xenophobia']]\n",
    "# \n",
    "# X_unlabeled_text = unlabeled_data[text_column]\n",
    "# \n",
    "# # TF-IDF Vectorization\n",
    "# vectorizer = TfidfVectorizer(max_features=1000)\n",
    "# X_labeled = vectorizer.fit_transform(X_labeled_text).toarray()\n",
    "# X_unlabeled = vectorizer.transform(X_unlabeled_text).toarray()\n",
    "# \n",
    "# # Split labeled data for initial training and validation\n",
    "# X_train, X_val, y_train, y_val = train_test_split(X_labeled, y_labeled, test_size=0.2, random_state=42)\n",
    "# \n",
    "# # Train an initial model on the labeled data\n",
    "# initial_model = MultiOutputRegressor(RandomForestRegressor(random_state=42))\n",
    "# initial_model.fit(X_train, y_train)\n",
    "# \n",
    "# # Predict on the validation set\n",
    "# y_val_pred = initial_model.predict(X_val)\n",
    "# print(f'Initial model MSE for racism: {mean_squared_error(y_val[\"racism\"], y_val_pred[:, 0]):.4f}')\n",
    "# print(f'Initial model MSE for xenophobia: {mean_squared_error(y_val[\"xenophobia\"], y_val_pred[:, 1]):.4f}')\n",
    "# \n",
    "# # Self-training function for regression with dynamic threshold\n",
    "# def self_training_regressor(base_estimator, X_labeled, y_labeled, X_unlabeled, initial_threshold=0.8, threshold_step=0.05):\n",
    "#     model = base_estimator\n",
    "#     current_threshold = initial_threshold\n",
    "#     \n",
    "#     while len(X_unlabeled) > 0:\n",
    "#         model.fit(X_labeled, y_labeled)\n",
    "#         y_unlabeled_pred = model.predict(X_unlabeled)\n",
    "#         confidence_scores = np.max(np.abs(y_unlabeled_pred - 0.5), axis=1)\n",
    "#         high_confidence_mask = confidence_scores >= current_threshold\n",
    "#         \n",
    "#         if not np.any(high_confidence_mask):\n",
    "#             current_threshold -= threshold_step\n",
    "#             if current_threshold < 0.5:\n",
    "#                 break\n",
    "#             continue\n",
    "#         \n",
    "#         X_labeled = np.vstack([X_labeled, X_unlabeled[high_confidence_mask]])\n",
    "#         y_labeled = np.vstack([y_labeled, y_unlabeled_pred[high_confidence_mask]])\n",
    "#         X_unlabeled = X_unlabeled[~high_confidence_mask]\n",
    "#     \n",
    "#     return model\n",
    "# \n",
    "# # Apply self-training\n",
    "# self_training_model = MultiOutputRegressor(RandomForestRegressor(random_state=42))\n",
    "# self_training_model = self_training_regressor(self_training_model, X_train, y_train, X_unlabeled)\n",
    "# \n",
    "# # Predict on the unlabeled data\n",
    "# y_unlabeled_pred = self_training_model.predict(X_unlabeled)\n",
    "# unlabeled_data['racism'] = y_unlabeled_pred[:, 0]\n",
    "# unlabeled_data['xenophobia'] = y_unlabeled_pred[:, 1]\n",
    "# \n",
    "# # Combine labeled and newly labeled data\n",
    "# combined_data = pd.concat([labeled_data, unlabeled_data])\n",
    "# \n",
    "# # Train the final model on the combined data\n",
    "# final_model = MultiOutputRegressor(RandomForestRegressor(random_state=42))\n",
    "# final_model.fit(vectorizer.transform(combined_data[text_column]).toarray(), combined_data[['racism', 'xenophobia']])\n",
    "# \n",
    "# # Evaluate the final model on the validation set\n",
    "# y_val_pred_final = final_model.predict(X_val)\n",
    "# print(f'Final model MSE for racism: {mean_squared_error(y_val[\"racism\"], y_val_pred_final[:, 0]):.4f}')\n",
    "# print(f'Final model MSE for xenophobia: {mean_squared_error(y_val[\"xenophobia\"], y_val_pred_final[:, 1]):.4f}')\n",
    "# \n",
    "# # Save the combined dataset with labels\n",
    "# combined_data.to_csv('combined_labeled_dataset.csv', index=False)\n"
   ]
  },
  {
   "cell_type": "code",
   "execution_count": 143,
   "metadata": {
    "ExecuteTime": {
     "end_time": "2024-05-25T09:04:53.880547200Z",
     "start_time": "2024-05-25T09:04:53.352214700Z"
    },
    "collapsed": false,
    "jupyter": {
     "outputs_hidden": false
    }
   },
   "outputs": [],
   "source": [
    "df = pd.read_csv('combined_labeled_dataset.csv')"
   ]
  },
  {
   "cell_type": "code",
   "execution_count": 144,
   "metadata": {
    "ExecuteTime": {
     "end_time": "2024-05-25T09:04:54.791249100Z",
     "start_time": "2024-05-25T09:04:54.184815800Z"
    },
    "collapsed": false,
    "jupyter": {
     "outputs_hidden": false
    }
   },
   "outputs": [
    {
     "data": {
      "image/png": "[encoded data removed]",
      "text/plain": [
       "<Figure size 1000x600 with 1 Axes>"
      ]
     },
     "metadata": {},
     "output_type": "display_data"
    },
    {
     "data": {
      "image/png": "[encoded data removed]",
      "text/plain": [
       "<Figure size 1000x600 with 1 Axes>"
      ]
     },
     "metadata": {},
     "output_type": "display_data"
    }
   ],
   "source": [
    "# Plot histogram for racism scores\n",
    "plt.figure(figsize=(10, 6))\n",
    "sns.histplot(df['racism'], bins=20, kde=True, color='blue', label='Racism Score')\n",
    "plt.title('Distribution of Racism Scores')\n",
    "plt.xlabel('Racism Score')\n",
    "plt.ylabel('Frequency')\n",
    "plt.legend()\n",
    "plt.show()\n",
    "\n",
    "# Plot histogram for xenophobia scores\n",
    "plt.figure(figsize=(10, 6))\n",
    "sns.histplot(df['xenophobia'], bins=20, kde=True, color='red', label='Xenophobia Score')\n",
    "plt.title('Distribution of Xenophobia Scores')\n",
    "plt.xlabel('Xenophobia Score')\n",
    "plt.ylabel('Frequency')\n",
    "plt.legend()\n",
    "plt.show()"
   ]
  },
  {
   "cell_type": "code",
   "execution_count": 145,
   "metadata": {
    "ExecuteTime": {
     "end_time": "2024-05-25T09:04:54.798697900Z",
     "start_time": "2024-05-25T09:04:54.793249300Z"
    },
    "collapsed": false,
    "jupyter": {
     "outputs_hidden": false
    }
   },
   "outputs": [
    {
     "name": "stdout",
     "output_type": "stream",
     "text": [
      "zero weight label for rows for racsim :\n",
      " 1153\n",
      "zero weight label for rows for xenophobia :\n",
      " 631\n"
     ]
    }
   ],
   "source": [
    "zero_weight_label_rows_racism = df[(df[\"racism\"] == 0)]\n",
    "zero_weight_label_rows_xenophobia = df[(df[\"xenophobia\"] == 0)]\n",
    "print(\"zero weight label for rows for racsim :\\n\",len(zero_weight_label_rows_racism))\n",
    "print(\"zero weight label for rows for xenophobia :\\n\",len(zero_weight_label_rows_xenophobia))"
   ]
  },
  {
   "cell_type": "code",
   "execution_count": 146,
   "metadata": {
    "ExecuteTime": {
     "end_time": "2024-05-25T09:04:55.249101700Z",
     "start_time": "2024-05-25T09:04:55.225102600Z"
    },
    "collapsed": false,
    "jupyter": {
     "outputs_hidden": false
    }
   },
   "outputs": [
    {
     "data": {
      "text/plain": [
       "3797"
      ]
     },
     "execution_count": 146,
     "metadata": {},
     "output_type": "execute_result"
    }
   ],
   "source": [
    "zero_weight_label_rows = df[(df[\"racism\"] < 0.07) & (df[\"xenophobia\"] < 0.07)]\n",
    "len(zero_weight_label_rows)"
   ]
  },
  {
   "cell_type": "code",
   "execution_count": 147,
   "metadata": {
    "ExecuteTime": {
     "end_time": "2024-05-25T09:04:55.671731900Z",
     "start_time": "2024-05-25T09:04:55.661716200Z"
    },
    "collapsed": false,
    "jupyter": {
     "outputs_hidden": false
    }
   },
   "outputs": [],
   "source": [
    "zero_weight_label_rows = zero_weight_label_rows.sample(frac=0.5)"
   ]
  },
  {
   "cell_type": "code",
   "execution_count": 148,
   "metadata": {
    "ExecuteTime": {
     "end_time": "2024-05-25T09:04:56.073368800Z",
     "start_time": "2024-05-25T09:04:56.047591700Z"
    },
    "collapsed": false,
    "jupyter": {
     "outputs_hidden": false
    }
   },
   "outputs": [
    {
     "data": {
      "text/plain": [
       "1898"
      ]
     },
     "execution_count": 148,
     "metadata": {},
     "output_type": "execute_result"
    }
   ],
   "source": [
    "len(zero_weight_label_rows)"
   ]
  },
  {
   "cell_type": "code",
   "execution_count": 149,
   "metadata": {
    "ExecuteTime": {
     "end_time": "2024-05-25T09:04:56.386001Z",
     "start_time": "2024-05-25T09:04:56.376396800Z"
    },
    "collapsed": false,
    "jupyter": {
     "outputs_hidden": false
    }
   },
   "outputs": [],
   "source": [
    "df_balanced = df.copy()"
   ]
  },
  {
   "cell_type": "code",
   "execution_count": 150,
   "metadata": {
    "ExecuteTime": {
     "end_time": "2024-05-25T09:04:56.788795700Z",
     "start_time": "2024-05-25T09:04:56.763901300Z"
    },
    "collapsed": false,
    "jupyter": {
     "outputs_hidden": false
    }
   },
   "outputs": [],
   "source": [
    "df_balanced.drop(zero_weight_label_rows.index, inplace=True)"
   ]
  },
  {
   "cell_type": "markdown",
   "metadata": {
    "id": "sJL4ucdzXfwM"
   },
   "source": [
    "# Data preprocessing"
   ]
  },
  {
   "cell_type": "code",
   "execution_count": 151,
   "metadata": {
    "ExecuteTime": {
     "end_time": "2024-05-25T09:04:59.333534900Z",
     "start_time": "2024-05-25T09:04:57.656284400Z"
    },
    "colab": {
     "base_uri": "https://localhost:8080/"
    },
    "id": "PWGYbvmnXh_f",
    "outputId": "a41815a7-7361-40b8-8164-e13b355b1a27"
   },
   "outputs": [
    {
     "name": "stderr",
     "output_type": "stream",
     "text": [
      "[nltk_data] Downloading package punkt to\n",
      "[nltk_data]     C:\\Users\\ASHKAN\\AppData\\Roaming\\nltk_data...\n",
      "[nltk_data]   Package punkt is already up-to-date!\n",
      "[nltk_data] Downloading package wordnet to\n",
      "[nltk_data]     C:\\Users\\ASHKAN\\AppData\\Roaming\\nltk_data...\n",
      "[nltk_data]   Package wordnet is already up-to-date!\n",
      "[nltk_data] Downloading package omw-1.4 to\n",
      "[nltk_data]     C:\\Users\\ASHKAN\\AppData\\Roaming\\nltk_data...\n",
      "[nltk_data]   Package omw-1.4 is already up-to-date!\n",
      "[nltk_data] Downloading package stopwords to\n",
      "[nltk_data]     C:\\Users\\ASHKAN\\AppData\\Roaming\\nltk_data...\n",
      "[nltk_data]   Package stopwords is already up-to-date!\n"
     ]
    }
   ],
   "source": [
    "import re\n",
    "from nltk.corpus import stopwords\n",
    "from nltk.stem import WordNetLemmatizer\n",
    "from nltk.tokenize import word_tokenize\n",
    "from nltk.corpus import wordnet\n",
    "import nltk\n",
    "\n",
    "# Ensure the necessary NLTK data packages are downloaded\n",
    "nltk.download('punkt')\n",
    "nltk.download('wordnet')\n",
    "nltk.download('omw-1.4')\n",
    "nltk.download('stopwords')\n",
    "\n",
    "\n",
    "def clean_and_process_tweet(tweet):\n",
    "    \"\"\"\n",
    "    Clean a tweet by removing URLs, mentions, hashtags, special characters, numbers, and extra spaces,\n",
    "    converting text to lowercase, removing stop words, and applying lemmatization.\n",
    "    \"\"\"\n",
    "    # Initialize the lemmatizer and stop words\n",
    "    lemmatizer = WordNetLemmatizer()\n",
    "    stop_words = set(stopwords.words('english'))\n",
    "\n",
    "    # Remove URLs\n",
    "    tweet = re.sub(r'http\\S+|www\\S+|https\\S+', '', tweet, flags=re.MULTILINE)\n",
    "    # Remove mentions\n",
    "    tweet = re.sub(r'@\\w+', '', tweet)\n",
    "    # Remove hashtags\n",
    "    tweet = re.sub(r'#\\w+', '', tweet)\n",
    "    # Remove special characters and numbers\n",
    "    tweet = re.sub(r'[^A-Za-z\\s]', '', tweet)\n",
    "    # Remove extra spaces\n",
    "    tweet = re.sub(r'\\s+', ' ', tweet).strip()\n",
    "    # Convert to lowercase\n",
    "    tweet = tweet.lower()\n",
    "    # Tokenize the tweet\n",
    "    words = word_tokenize(tweet)\n",
    "    # Remove stop words and apply lemmatization\n",
    "    processed_words = [lemmatizer.lemmatize(word, pos=wordnet.VERB) for word in words if word not in stop_words]\n",
    "    # Reconstruct the tweet\n",
    "    cleaned_tweet = ' '.join(processed_words)\n",
    "\n",
    "    return cleaned_tweet\n"
   ]
  },
  {
   "cell_type": "code",
   "execution_count": 152,
   "metadata": {
    "ExecuteTime": {
     "end_time": "2024-05-25T09:04:59.350898400Z",
     "start_time": "2024-05-25T09:04:59.333534900Z"
    },
    "collapsed": false,
    "jupyter": {
     "outputs_hidden": false
    }
   },
   "outputs": [
    {
     "data": {
      "text/html": [
       "<div>\n",
       "<style scoped>\n",
       "    .dataframe tbody tr th:only-of-type {\n",
       "        vertical-align: middle;\n",
       "    }\n",
       "\n",
       "    .dataframe tbody tr th {\n",
       "        vertical-align: top;\n",
       "    }\n",
       "\n",
       "    .dataframe thead th {\n",
       "        text-align: right;\n",
       "    }\n",
       "</style>\n",
       "<table border=\"1\" class=\"dataframe\">\n",
       "  <thead>\n",
       "    <tr style=\"text-align: right;\">\n",
       "      <th></th>\n",
       "      <th>text</th>\n",
       "      <th>racism</th>\n",
       "      <th>xenophobia</th>\n",
       "    </tr>\n",
       "  </thead>\n",
       "  <tbody>\n",
       "    <tr>\n",
       "      <th>0</th>\n",
       "      <td>You should know women's sports are a joke</td>\n",
       "      <td>0.000000</td>\n",
       "      <td>0.000000</td>\n",
       "    </tr>\n",
       "    <tr>\n",
       "      <th>2</th>\n",
       "      <td>You look like Russian and speak like Indian. Both are disgusting go kill yourself</td>\n",
       "      <td>0.142857</td>\n",
       "      <td>0.714286</td>\n",
       "    </tr>\n",
       "    <tr>\n",
       "      <th>3</th>\n",
       "      <td>Women deserve to be abused, I guess.</td>\n",
       "      <td>0.000000</td>\n",
       "      <td>0.000000</td>\n",
       "    </tr>\n",
       "    <tr>\n",
       "      <th>4</th>\n",
       "      <td>Women are made for making babies and cooking dinner and nothing else!!!</td>\n",
       "      <td>0.000000</td>\n",
       "      <td>0.000000</td>\n",
       "    </tr>\n",
       "    <tr>\n",
       "      <th>5</th>\n",
       "      <td>why haven't you faggots taken the bi-pill yet</td>\n",
       "      <td>0.000000</td>\n",
       "      <td>0.000000</td>\n",
       "    </tr>\n",
       "    <tr>\n",
       "      <th>...</th>\n",
       "      <td>...</td>\n",
       "      <td>...</td>\n",
       "      <td>...</td>\n",
       "    </tr>\n",
       "    <tr>\n",
       "      <th>12428</th>\n",
       "      <td>Excellent thread about the situation of slavery in which the immigrant population of Palos de la Frontera works.They have been working for the young people who pay € 2 for years, yes 2 miserable euros x hour, without social security, pay in black which does not allow them to regularize their https://t.co/mak209byix</td>\n",
       "      <td>0.841219</td>\n",
       "      <td>0.036429</td>\n",
       "    </tr>\n",
       "    <tr>\n",
       "      <th>12429</th>\n",
       "      <td>They rescue a patera with 46 sub -Saharan south of Gran Canaria https://t.co/aot8uvhyzg</td>\n",
       "      <td>0.008857</td>\n",
       "      <td>0.094048</td>\n",
       "    </tr>\n",
       "    <tr>\n",
       "      <th>12430</th>\n",
       "      <td>@Usembassybogota Hello, I would like to have information on the programming of non -immigrant visa dates</td>\n",
       "      <td>0.072000</td>\n",
       "      <td>0.134667</td>\n",
       "    </tr>\n",
       "    <tr>\n",
       "      <th>12431</th>\n",
       "      <td>@ALEXILIADOO The Menas are people like you or like me, children who have come to look for a better life because they have not had another option, far from their families, their culture and the people who love them.I do not care where people are or come from, I care that they are good people.</td>\n",
       "      <td>0.043167</td>\n",
       "      <td>0.202179</td>\n",
       "    </tr>\n",
       "    <tr>\n",
       "      <th>12432</th>\n",
       "      <td>Good morning to the friendly bird, which is a day above the average, as a “admission process” of @tcavalliv winner of the Fare Cinema Award, the Italian immigrant ”as the best audiovisual!Bravo Cavalli!</td>\n",
       "      <td>0.140625</td>\n",
       "      <td>0.041520</td>\n",
       "    </tr>\n",
       "  </tbody>\n",
       "</table>\n",
       "<p>10535 rows × 3 columns</p>\n",
       "</div>"
      ],
      "text/plain": [
       "                                                                                                                                                                                                                                                                                                                               text  \\\n",
       "0                                                                                                                                                                                                                                                                                         You should know women's sports are a joke   \n",
       "2                                                                                                                                                                                                                                                 You look like Russian and speak like Indian. Both are disgusting go kill yourself   \n",
       "3                                                                                                                                                                                                                                                                                              Women deserve to be abused, I guess.   \n",
       "4                                                                                                                                                                                                                                                           Women are made for making babies and cooking dinner and nothing else!!!   \n",
       "5                                                                                                                                                                                                                                                                                     why haven't you faggots taken the bi-pill yet   \n",
       "...                                                                                                                                                                                                                                                                                                                             ...   \n",
       "12428  Excellent thread about the situation of slavery in which the immigrant population of Palos de la Frontera works.They have been working for the young people who pay € 2 for years, yes 2 miserable euros x hour, without social security, pay in black which does not allow them to regularize their https://t.co/mak209byix   \n",
       "12429                                                                                                                                                                                                                                       They rescue a patera with 46 sub -Saharan south of Gran Canaria https://t.co/aot8uvhyzg   \n",
       "12430                                                                                                                                                                                                                      @Usembassybogota Hello, I would like to have information on the programming of non -immigrant visa dates   \n",
       "12431                          @ALEXILIADOO The Menas are people like you or like me, children who have come to look for a better life because they have not had another option, far from their families, their culture and the people who love them.I do not care where people are or come from, I care that they are good people.   \n",
       "12432                                                                                                                    Good morning to the friendly bird, which is a day above the average, as a “admission process” of @tcavalliv winner of the Fare Cinema Award, the Italian immigrant ”as the best audiovisual!Bravo Cavalli!   \n",
       "\n",
       "         racism  xenophobia  \n",
       "0      0.000000    0.000000  \n",
       "2      0.142857    0.714286  \n",
       "3      0.000000    0.000000  \n",
       "4      0.000000    0.000000  \n",
       "5      0.000000    0.000000  \n",
       "...         ...         ...  \n",
       "12428  0.841219    0.036429  \n",
       "12429  0.008857    0.094048  \n",
       "12430  0.072000    0.134667  \n",
       "12431  0.043167    0.202179  \n",
       "12432  0.140625    0.041520  \n",
       "\n",
       "[10535 rows x 3 columns]"
      ]
     },
     "execution_count": 152,
     "metadata": {},
     "output_type": "execute_result"
    }
   ],
   "source": [
    "df_balanced"
   ]
  },
  {
   "cell_type": "code",
   "execution_count": 153,
   "metadata": {
    "ExecuteTime": {
     "end_time": "2024-05-25T09:05:02.671854700Z",
     "start_time": "2024-05-25T09:04:59.340897300Z"
    },
    "id": "64B7HxIuXm8h"
   },
   "outputs": [],
   "source": [
    "df['text_cleaned'] = df['text'].map(lambda x: clean_and_process_tweet(x))"
   ]
  },
  {
   "cell_type": "code",
   "execution_count": 154,
   "metadata": {
    "ExecuteTime": {
     "end_time": "2024-05-25T09:05:05.803118100Z",
     "start_time": "2024-05-25T09:05:02.673854600Z"
    },
    "collapsed": false,
    "jupyter": {
     "outputs_hidden": false
    }
   },
   "outputs": [],
   "source": [
    "df_balanced['text_cleaned'] = df_balanced['text'].map(lambda x: clean_and_process_tweet(x))"
   ]
  },
  {
   "cell_type": "code",
   "execution_count": 155,
   "metadata": {
    "ExecuteTime": {
     "end_time": "2024-05-25T09:05:05.822619100Z",
     "start_time": "2024-05-25T09:05:05.804112600Z"
    },
    "collapsed": false,
    "jupyter": {
     "outputs_hidden": false
    }
   },
   "outputs": [
    {
     "data": {
      "text/html": [
       "<div>\n",
       "<style scoped>\n",
       "    .dataframe tbody tr th:only-of-type {\n",
       "        vertical-align: middle;\n",
       "    }\n",
       "\n",
       "    .dataframe tbody tr th {\n",
       "        vertical-align: top;\n",
       "    }\n",
       "\n",
       "    .dataframe thead th {\n",
       "        text-align: right;\n",
       "    }\n",
       "</style>\n",
       "<table border=\"1\" class=\"dataframe\">\n",
       "  <thead>\n",
       "    <tr style=\"text-align: right;\">\n",
       "      <th></th>\n",
       "      <th>text</th>\n",
       "      <th>racism</th>\n",
       "      <th>xenophobia</th>\n",
       "      <th>text_cleaned</th>\n",
       "    </tr>\n",
       "  </thead>\n",
       "  <tbody>\n",
       "    <tr>\n",
       "      <th>0</th>\n",
       "      <td>You should know women's sports are a joke</td>\n",
       "      <td>0.000000</td>\n",
       "      <td>0.000000</td>\n",
       "      <td>know womens sport joke</td>\n",
       "    </tr>\n",
       "    <tr>\n",
       "      <th>2</th>\n",
       "      <td>You look like Russian and speak like Indian. Both are disgusting go kill yourself</td>\n",
       "      <td>0.142857</td>\n",
       "      <td>0.714286</td>\n",
       "      <td>look like russian speak like indian disgust go kill</td>\n",
       "    </tr>\n",
       "    <tr>\n",
       "      <th>3</th>\n",
       "      <td>Women deserve to be abused, I guess.</td>\n",
       "      <td>0.000000</td>\n",
       "      <td>0.000000</td>\n",
       "      <td>women deserve abuse guess</td>\n",
       "    </tr>\n",
       "    <tr>\n",
       "      <th>4</th>\n",
       "      <td>Women are made for making babies and cooking dinner and nothing else!!!</td>\n",
       "      <td>0.000000</td>\n",
       "      <td>0.000000</td>\n",
       "      <td>women make make baby cook dinner nothing else</td>\n",
       "    </tr>\n",
       "    <tr>\n",
       "      <th>5</th>\n",
       "      <td>why haven't you faggots taken the bi-pill yet</td>\n",
       "      <td>0.000000</td>\n",
       "      <td>0.000000</td>\n",
       "      <td>havent faggot take bipill yet</td>\n",
       "    </tr>\n",
       "  </tbody>\n",
       "</table>\n",
       "</div>"
      ],
      "text/plain": [
       "                                                                                text  \\\n",
       "0                                          You should know women's sports are a joke   \n",
       "2  You look like Russian and speak like Indian. Both are disgusting go kill yourself   \n",
       "3                                               Women deserve to be abused, I guess.   \n",
       "4            Women are made for making babies and cooking dinner and nothing else!!!   \n",
       "5                                      why haven't you faggots taken the bi-pill yet   \n",
       "\n",
       "     racism  xenophobia                                         text_cleaned  \n",
       "0  0.000000    0.000000                               know womens sport joke  \n",
       "2  0.142857    0.714286  look like russian speak like indian disgust go kill  \n",
       "3  0.000000    0.000000                            women deserve abuse guess  \n",
       "4  0.000000    0.000000        women make make baby cook dinner nothing else  \n",
       "5  0.000000    0.000000                        havent faggot take bipill yet  "
      ]
     },
     "execution_count": 155,
     "metadata": {},
     "output_type": "execute_result"
    }
   ],
   "source": [
    "df_balanced.head()"
   ]
  },
  {
   "cell_type": "code",
   "execution_count": 156,
   "metadata": {
    "ExecuteTime": {
     "end_time": "2024-05-25T09:05:07.879011500Z",
     "start_time": "2024-05-25T09:05:07.858640200Z"
    },
    "colab": {
     "base_uri": "https://localhost:8080/"
    },
    "id": "B2w0rUdgXo6v",
    "outputId": "13be4d5d-ccf4-4adf-858c-743783a3757a"
   },
   "outputs": [
    {
     "name": "stdout",
     "output_type": "stream",
     "text": [
      "Training set shape: (8428, 4)\n",
      "Test set shape: (2107, 4)\n"
     ]
    }
   ],
   "source": [
    "df_train, df_test = train_test_split(df_balanced, test_size=0.20,shuffle=True)\n",
    "\n",
    "print(f'Training set shape: {df_train.shape}')\n",
    "print(f'Test set shape: {df_test.shape}')"
   ]
  },
  {
   "cell_type": "code",
   "execution_count": 157,
   "metadata": {
    "ExecuteTime": {
     "end_time": "2024-05-25T09:05:08.996226500Z",
     "start_time": "2024-05-25T09:05:08.975334600Z"
    },
    "id": "5VY1RAsdXptB"
   },
   "outputs": [],
   "source": [
    "df_train.drop_duplicates(subset=['text_cleaned'], keep='last', inplace=True)\n",
    "df_test.drop_duplicates(subset=['text_cleaned'], keep='last', inplace=True)"
   ]
  },
  {
   "cell_type": "code",
   "execution_count": 158,
   "metadata": {
    "ExecuteTime": {
     "end_time": "2024-05-25T09:05:09.842493600Z",
     "start_time": "2024-05-25T09:05:09.664913100Z"
    },
    "collapsed": false,
    "jupyter": {
     "outputs_hidden": false
    }
   },
   "outputs": [
    {
     "name": "stdout",
     "output_type": "stream",
     "text": [
      "Vocabulary Size: 17740\n"
     ]
    }
   ],
   "source": [
    "tokenizer = Tokenizer()\n",
    "tokenizer.fit_on_texts(df.text_cleaned)\n",
    "\n",
    "word_index = tokenizer.word_index\n",
    "V = len(word_index) + 1\n",
    "print(\"Vocabulary Size:\", V)"
   ]
  },
  {
   "cell_type": "code",
   "execution_count": 159,
   "metadata": {
    "ExecuteTime": {
     "end_time": "2024-05-25T09:05:13.313645400Z",
     "start_time": "2024-05-25T09:05:13.295399Z"
    },
    "colab": {
     "base_uri": "https://localhost:8080/"
    },
    "id": "Hu3HFK-RXt0h",
    "outputId": "9e05bb01-603f-4361-9ac0-ff437ff24a04"
   },
   "outputs": [
    {
     "data": {
      "text/plain": [
       "11.93245350929814"
      ]
     },
     "execution_count": 159,
     "metadata": {},
     "output_type": "execute_result"
    }
   ],
   "source": [
    "sent_len = [len(sentence.split()) for sentence in df_train.text_cleaned]\n",
    "avg_sent_len = np.mean(sent_len)\n",
    "avg_sent_len"
   ]
  },
  {
   "cell_type": "code",
   "execution_count": 160,
   "metadata": {
    "ExecuteTime": {
     "end_time": "2024-05-25T09:05:14.313370500Z",
     "start_time": "2024-05-25T09:05:14.279589300Z"
    },
    "collapsed": false,
    "jupyter": {
     "outputs_hidden": false
    }
   },
   "outputs": [
    {
     "data": {
      "text/html": [
       "<div>\n",
       "<style scoped>\n",
       "    .dataframe tbody tr th:only-of-type {\n",
       "        vertical-align: middle;\n",
       "    }\n",
       "\n",
       "    .dataframe tbody tr th {\n",
       "        vertical-align: top;\n",
       "    }\n",
       "\n",
       "    .dataframe thead th {\n",
       "        text-align: right;\n",
       "    }\n",
       "</style>\n",
       "<table border=\"1\" class=\"dataframe\">\n",
       "  <thead>\n",
       "    <tr style=\"text-align: right;\">\n",
       "      <th></th>\n",
       "      <th>text</th>\n",
       "      <th>racism</th>\n",
       "      <th>xenophobia</th>\n",
       "      <th>text_cleaned</th>\n",
       "    </tr>\n",
       "  </thead>\n",
       "  <tbody>\n",
       "    <tr>\n",
       "      <th>3065</th>\n",
       "      <td>So was listening to a Roman Catholic who justified voting for Harper because Harper was a Christian So I thought to my self Harpers policies were anything but Christian and Harper is a Racist White Supremacist Thinking that this guy being a POC immigrant would be hated by Harper</td>\n",
       "      <td>0.473721</td>\n",
       "      <td>0.046952</td>\n",
       "      <td>listen roman catholic justify vote harper harper christian think self harpers policies anything christian harper racist white supremacist think guy poc immigrant would hat harper</td>\n",
       "    </tr>\n",
       "    <tr>\n",
       "      <th>7710</th>\n",
       "      <td>When all your friends are good people and you wonder why they like you for the piece of shit you are...</td>\n",
       "      <td>0.034585</td>\n",
       "      <td>0.135331</td>\n",
       "      <td>friends good people wonder like piece shit</td>\n",
       "    </tr>\n",
       "    <tr>\n",
       "      <th>3803</th>\n",
       "      <td>@Harryslaststand The rise of ISIS is due to the aid they received from Assad. The refugees are mostly fleeing from Assad. It is Corbyn with his pro-Assad policy who should hang his head in shame.</td>\n",
       "      <td>0.068548</td>\n",
       "      <td>0.096000</td>\n",
       "      <td>rise isis due aid receive assad refugees mostly flee assad corbyn proassad policy hang head shame</td>\n",
       "    </tr>\n",
       "    <tr>\n",
       "      <th>1297</th>\n",
       "      <td>#ICE #IllegalImmigration #IllegalAliens #BorderPatrol #MS13One reason I’m against illegal immigration is that we... https://t.co/yJ9Jl3QJuA</td>\n",
       "      <td>0.144000</td>\n",
       "      <td>0.055000</td>\n",
       "      <td>reason im illegal immigration</td>\n",
       "    </tr>\n",
       "    <tr>\n",
       "      <th>1625</th>\n",
       "      <td>@V_of_Europe Pepper spray needs to free to women in Europe and supplied by the government. #migrants</td>\n",
       "      <td>0.019222</td>\n",
       "      <td>0.521500</td>\n",
       "      <td>pepper spray need free women europe supply government</td>\n",
       "    </tr>\n",
       "    <tr>\n",
       "      <th>...</th>\n",
       "      <td>...</td>\n",
       "      <td>...</td>\n",
       "      <td>...</td>\n",
       "      <td>...</td>\n",
       "    </tr>\n",
       "    <tr>\n",
       "      <th>4070</th>\n",
       "      <td>Watch: French Police Remove Hundreds of illegal immigrants from cathedral near Paris - Free Speech Time - https://t.co/t6tbyzm1r9 @ISupport_Israel</td>\n",
       "      <td>0.241919</td>\n",
       "      <td>0.196526</td>\n",
       "      <td>watch french police remove hundreds illegal immigrants cathedral near paris free speech time</td>\n",
       "    </tr>\n",
       "    <tr>\n",
       "      <th>9094</th>\n",
       "      <td>my bitch cunt supervisor can never keep my name outta her mouth</td>\n",
       "      <td>0.106571</td>\n",
       "      <td>0.072143</td>\n",
       "      <td>bitch cunt supervisor never keep name outta mouth</td>\n",
       "    </tr>\n",
       "    <tr>\n",
       "      <th>5030</th>\n",
       "      <td>Ovide Mercredi to Paul Schabas, 'Char's a squaw. I attack Indigenous women all the time. No one will notice if you rape her! Rape her!'</td>\n",
       "      <td>0.044562</td>\n",
       "      <td>0.142669</td>\n",
       "      <td>ovide mercredi paul schabas char squaw attack indigenous women time one notice rape rape</td>\n",
       "    </tr>\n",
       "    <tr>\n",
       "      <th>1773</th>\n",
       "      <td>Fists fly, and so does a megaphone, as rapefugee crisis inflames local politics in Dhimmi Toronto area https://t.co/qKf0q7UoAj</td>\n",
       "      <td>0.040000</td>\n",
       "      <td>0.014381</td>\n",
       "      <td>fists fly megaphone rapefugee crisis inflame local politics dhimmi toronto area</td>\n",
       "    </tr>\n",
       "    <tr>\n",
       "      <th>6854</th>\n",
       "      <td>@MarkDavisRaider Mike I don't know you from a hole in the wall you're a businessman either way you can't lose, but… https://t.co/x7BEBK4HqD</td>\n",
       "      <td>0.051735</td>\n",
       "      <td>0.109521</td>\n",
       "      <td>mike dont know hole wall youre businessman either way cant lose</td>\n",
       "    </tr>\n",
       "  </tbody>\n",
       "</table>\n",
       "<p>8335 rows × 4 columns</p>\n",
       "</div>"
      ],
      "text/plain": [
       "                                                                                                                                                                                                                                                                                         text  \\\n",
       "3065  So was listening to a Roman Catholic who justified voting for Harper because Harper was a Christian So I thought to my self Harpers policies were anything but Christian and Harper is a Racist White Supremacist Thinking that this guy being a POC immigrant would be hated by Harper   \n",
       "7710                                                                                                                                                                                  When all your friends are good people and you wonder why they like you for the piece of shit you are...   \n",
       "3803                                                                                      @Harryslaststand The rise of ISIS is due to the aid they received from Assad. The refugees are mostly fleeing from Assad. It is Corbyn with his pro-Assad policy who should hang his head in shame.   \n",
       "1297                                                                                                                                              #ICE #IllegalImmigration #IllegalAliens #BorderPatrol #MS13One reason I’m against illegal immigration is that we... https://t.co/yJ9Jl3QJuA   \n",
       "1625                                                                                                                                                                                     @V_of_Europe Pepper spray needs to free to women in Europe and supplied by the government. #migrants   \n",
       "...                                                                                                                                                                                                                                                                                       ...   \n",
       "4070                                                                                                                                       Watch: French Police Remove Hundreds of illegal immigrants from cathedral near Paris - Free Speech Time - https://t.co/t6tbyzm1r9 @ISupport_Israel   \n",
       "9094                                                                                                                                                                                                                          my bitch cunt supervisor can never keep my name outta her mouth   \n",
       "5030                                                                                                                                                  Ovide Mercredi to Paul Schabas, 'Char's a squaw. I attack Indigenous women all the time. No one will notice if you rape her! Rape her!'   \n",
       "1773                                                                                                                                                           Fists fly, and so does a megaphone, as rapefugee crisis inflames local politics in Dhimmi Toronto area https://t.co/qKf0q7UoAj   \n",
       "6854                                                                                                                                              @MarkDavisRaider Mike I don't know you from a hole in the wall you're a businessman either way you can't lose, but… https://t.co/x7BEBK4HqD   \n",
       "\n",
       "        racism  xenophobia  \\\n",
       "3065  0.473721    0.046952   \n",
       "7710  0.034585    0.135331   \n",
       "3803  0.068548    0.096000   \n",
       "1297  0.144000    0.055000   \n",
       "1625  0.019222    0.521500   \n",
       "...        ...         ...   \n",
       "4070  0.241919    0.196526   \n",
       "9094  0.106571    0.072143   \n",
       "5030  0.044562    0.142669   \n",
       "1773  0.040000    0.014381   \n",
       "6854  0.051735    0.109521   \n",
       "\n",
       "                                                                                                                                                                            text_cleaned  \n",
       "3065  listen roman catholic justify vote harper harper christian think self harpers policies anything christian harper racist white supremacist think guy poc immigrant would hat harper  \n",
       "7710                                                                                                                                          friends good people wonder like piece shit  \n",
       "3803                                                                                   rise isis due aid receive assad refugees mostly flee assad corbyn proassad policy hang head shame  \n",
       "1297                                                                                                                                                       reason im illegal immigration  \n",
       "1625                                                                                                                               pepper spray need free women europe supply government  \n",
       "...                                                                                                                                                                                  ...  \n",
       "4070                                                                                        watch french police remove hundreds illegal immigrants cathedral near paris free speech time  \n",
       "9094                                                                                                                                   bitch cunt supervisor never keep name outta mouth  \n",
       "5030                                                                                            ovide mercredi paul schabas char squaw attack indigenous women time one notice rape rape  \n",
       "1773                                                                                                     fists fly megaphone rapefugee crisis inflame local politics dhimmi toronto area  \n",
       "6854                                                                                                                     mike dont know hole wall youre businessman either way cant lose  \n",
       "\n",
       "[8335 rows x 4 columns]"
      ]
     },
     "execution_count": 160,
     "metadata": {},
     "output_type": "execute_result"
    }
   ],
   "source": [
    "df_train"
   ]
  },
  {
   "cell_type": "code",
   "execution_count": 161,
   "metadata": {
    "ExecuteTime": {
     "end_time": "2024-05-25T09:05:16.317745800Z",
     "start_time": "2024-05-25T09:05:16.298707800Z"
    },
    "colab": {
     "base_uri": "https://localhost:8080/"
    },
    "id": "jmyHlAfpXu6n",
    "outputId": "8319104b-cfe5-4fd3-ffee-dbc77274efbf"
   },
   "outputs": [
    {
     "data": {
      "text/plain": [
       "24"
      ]
     },
     "execution_count": 161,
     "metadata": {},
     "output_type": "execute_result"
    }
   ],
   "source": [
    "# How long of a sentence lenght covers 95% of examples\n",
    "output_seq_len = int(np.percentile(sent_len, 95))\n",
    "output_seq_len"
   ]
  },
  {
   "cell_type": "code",
   "execution_count": 162,
   "metadata": {
    "ExecuteTime": {
     "end_time": "2024-05-25T09:05:17.031095700Z",
     "start_time": "2024-05-25T09:05:16.918217700Z"
    },
    "colab": {
     "base_uri": "https://localhost:8080/"
    },
    "id": "BNYaiLJlXwS7",
    "outputId": "66269e71-30d9-4527-bc20-a136828634c4"
   },
   "outputs": [
    {
     "name": "stdout",
     "output_type": "stream",
     "text": [
      "Training X Shape: (8335, 24)\n",
      "Testing X Shape: (2099, 24)\n",
      "[   0    0    0    0    0    0    0    0    0    0    0    0    0    0\n",
      "    0    0 5775 4563   36   79    5   91 1233  113]\n"
     ]
    }
   ],
   "source": [
    "MAX_LENGTH = output_seq_len\n",
    "\n",
    "X_train = pad_sequences(tokenizer.texts_to_sequences(df_train.text_cleaned),\n",
    "                        maxlen=MAX_LENGTH)\n",
    "X_test = pad_sequences(tokenizer.texts_to_sequences(df_test.text_cleaned),\n",
    "                       maxlen=MAX_LENGTH)\n",
    "\n",
    "print(\"Training X Shape:\", X_train.shape)\n",
    "print(\"Testing X Shape:\", X_test.shape)\n",
    "print(X_train[4])"
   ]
  },
  {
   "cell_type": "code",
   "execution_count": 163,
   "metadata": {
    "ExecuteTime": {
     "end_time": "2024-05-25T09:05:17.771619300Z",
     "start_time": "2024-05-25T09:05:17.732751700Z"
    },
    "colab": {
     "base_uri": "https://localhost:8080/"
    },
    "id": "2gE3LU__Xx3I",
    "outputId": "047c0242-1183-41c2-9fb5-3bc628ea3f23"
   },
   "outputs": [
    {
     "name": "stdout",
     "output_type": "stream",
     "text": [
      "Training y Shape: (8335, 2)\n",
      "Testing y Shape: (2099, 2)\n"
     ]
    }
   ],
   "source": [
    "y_train = pd.DataFrame(df_train[['racism', 'xenophobia']])\n",
    "y_test = pd.DataFrame(df_test[['racism', 'xenophobia']])\n",
    "\n",
    "print(\"Training y Shape:\", y_train.shape)\n",
    "print(\"Testing y Shape:\", y_test.shape)"
   ]
  },
  {
   "cell_type": "code",
   "execution_count": 165,
   "metadata": {
    "ExecuteTime": {
     "end_time": "2024-05-25T09:05:18.895046500Z",
     "start_time": "2024-05-25T09:05:18.856020500Z"
    },
    "collapsed": false,
    "jupyter": {
     "outputs_hidden": false
    }
   },
   "outputs": [
    {
     "data": {
      "text/plain": [
       "(8335, 4)"
      ]
     },
     "execution_count": 165,
     "metadata": {},
     "output_type": "execute_result"
    }
   ],
   "source": [
    "df_train.shape"
   ]
  },
  {
   "cell_type": "markdown",
   "metadata": {
    "id": "rI0O2bsTX24N"
   },
   "source": [
    "# Utils"
   ]
  },
  {
   "cell_type": "code",
   "execution_count": 255,
   "metadata": {
    "ExecuteTime": {
     "end_time": "2024-05-25T12:02:16.250268Z",
     "start_time": "2024-05-25T12:02:16.224057800Z"
    },
    "id": "oV0c2dYaXzmx"
   },
   "outputs": [],
   "source": [
    "from tensorflow.keras.callbacks import EarlyStopping, ReduceLROnPlateau\n",
    "\n",
    "# Callbacks\n",
    "early_stop = EarlyStopping(monitor='val_loss', patience=20, verbose=1, restore_best_weights=True)\n",
    "reduce_lr = ReduceLROnPlateau(monitor='val_loss', factor=0.2, patience=3, min_lr=0.0001, verbose=1)\n"
   ]
  },
  {
   "cell_type": "code",
   "execution_count": 167,
   "metadata": {
    "ExecuteTime": {
     "end_time": "2024-05-25T09:05:21.135990Z",
     "start_time": "2024-05-25T09:05:21.128942600Z"
    },
    "collapsed": false,
    "jupyter": {
     "outputs_hidden": false
    }
   },
   "outputs": [],
   "source": [
    "def predict(text, model, tokenizer, max_len=MAX_LENGTH):\n",
    "    # Tokenize the input text\n",
    "    sequences = tokenizer.texts_to_sequences([text])\n",
    "    # Pad the sequence\n",
    "    padded_sequences = pad_sequences(sequences, maxlen=max_len, padding='post', truncating='post')\n",
    "    # Make prediction\n",
    "    prediction = model.predict(padded_sequences)\n",
    "    # Interpret the prediction\n",
    "    racism_prob = prediction[0][0]\n",
    "    xenophobia_prob = prediction[0][1]\n",
    "    # Print the interpreted prediction\n",
    "    print(f\"Racism Probability: {racism_prob:.4f}\")\n",
    "    print(f\"Xenophobia Probability: {xenophobia_prob:.4f}\")"
   ]
  },
  {
   "cell_type": "code",
   "execution_count": 265,
   "metadata": {
    "ExecuteTime": {
     "end_time": "2024-05-25T12:13:03.653858Z",
     "start_time": "2024-05-25T12:13:03.648020300Z"
    },
    "collapsed": false,
    "jupyter": {
     "outputs_hidden": false
    }
   },
   "outputs": [],
   "source": [
    "def text_predict(model, tokenizer, max_len=MAX_LENGTH):\n",
    "    sentences = [\n",
    "        \"All immigrants are criminals and should go back to their country.\",\n",
    "        \"Black people are inferior and responsible for crime.\",\n",
    "        \"White people are superior to other races and should rule.\",\n",
    "        \"The new restaurant in town serves delicious food.\",\n",
    "        \"I'm excited for upcoming football match.\",\n",
    "        \"I love playing video games.\"\n",
    "    ]\n",
    "\n",
    "    for sentence in sentences:\n",
    "        print(f\"Sentence: {sentence}\")\n",
    "        predict(sentence, model, tokenizer, max_len)\n",
    "        print(\"--------------\")\n",
    "        "
   ]
  },
  {
   "cell_type": "code",
   "execution_count": 169,
   "metadata": {
    "ExecuteTime": {
     "end_time": "2024-05-25T09:05:22.261992600Z",
     "start_time": "2024-05-25T09:05:22.238985100Z"
    },
    "id": "3Qbo6QZrX7PM"
   },
   "outputs": [],
   "source": [
    "def plot_training_history(history):\n",
    "    plt.figure(figsize=(12, 4))\n",
    "\n",
    "    # Plot training & validation accuracy values\n",
    "    plt.subplot(1, 2, 1)\n",
    "    plt.plot(history.history['accuracy'])\n",
    "    plt.plot(history.history['val_accuracy'])\n",
    "    plt.title('Model accuracy')\n",
    "    plt.ylabel('Accuracy')\n",
    "    plt.xlabel('Epoch')\n",
    "    plt.legend(['Train', 'Validation'], loc='upper left')\n",
    "\n",
    "    # Plot training & validation loss values\n",
    "    plt.subplot(1, 2, 2)\n",
    "    plt.plot(history.history['loss'])\n",
    "    plt.plot(history.history['val_loss'])\n",
    "    plt.title('Model loss')\n",
    "    plt.ylabel('Loss')\n",
    "    plt.xlabel('Epoch')\n",
    "    plt.legend(['Train', 'Validation'], loc='upper left')\n",
    "    plt.show()\n"
   ]
  },
  {
   "cell_type": "markdown",
   "metadata": {
    "id": "sXPj_wzeX75T"
   },
   "source": [
    "# Glove conf"
   ]
  },
  {
   "cell_type": "code",
   "execution_count": 170,
   "metadata": {
    "ExecuteTime": {
     "end_time": "2024-05-25T09:07:37.073933400Z",
     "start_time": "2024-05-25T09:05:47.141492600Z"
    },
    "collapsed": false,
    "jupyter": {
     "outputs_hidden": false
    }
   },
   "outputs": [],
   "source": [
    "file_path_200 = '../glove/glove_tweet'\n",
    "glove_vectors_200d = KeyedVectors.load_word2vec_format(file_path_200, binary=False)"
   ]
  },
  {
   "cell_type": "code",
   "execution_count": 171,
   "metadata": {
    "ExecuteTime": {
     "end_time": "2024-05-25T09:07:37.201755600Z",
     "start_time": "2024-05-25T09:07:37.079126600Z"
    },
    "collapsed": false,
    "jupyter": {
     "outputs_hidden": false
    }
   },
   "outputs": [
    {
     "name": "stdout",
     "output_type": "stream",
     "text": [
      "Embedding Matrix Shape: (17740, 200)\n"
     ]
    }
   ],
   "source": [
    "embedding_dim_200 = 200\n",
    "# Initialize the embedding matrix\n",
    "embedding_matrix_200 = np.zeros((V, embedding_dim_200))\n",
    "print(\"Embedding Matrix Shape:\", embedding_matrix_200.shape)\n",
    "\n",
    "# Populate the embedding matrix\n",
    "for word, i in word_index.items():\n",
    "    if i < V:\n",
    "        if word in glove_vectors_200d:\n",
    "            embedding_vector_200 = glove_vectors_200d[word]\n",
    "            embedding_matrix_200[i] = embedding_vector_200\n"
   ]
  },
  {
   "cell_type": "code",
   "execution_count": 231,
   "metadata": {
    "ExecuteTime": {
     "end_time": "2024-05-25T11:29:21.318612Z",
     "start_time": "2024-05-25T11:29:20.924648500Z"
    },
    "collapsed": false,
    "jupyter": {
     "outputs_hidden": false
    }
   },
   "outputs": [
    {
     "name": "stdout",
     "output_type": "stream",
     "text": [
      "Embedding layer created successfully.\n"
     ]
    },
    {
     "name": "stderr",
     "output_type": "stream",
     "text": [
      "C:\\Users\\ASHKAN\\AppData\\Local\\Programs\\Python\\Python312\\Lib\\site-packages\\keras\\src\\layers\\core\\embedding.py:90: UserWarning: Argument `input_length` is deprecated. Just remove it.\n",
      "  warnings.warn(\n"
     ]
    }
   ],
   "source": [
    "# Create the embedding layer\n",
    "embedding_layer_200d = Embedding(\n",
    "    input_dim=V,\n",
    "    output_dim=embedding_dim_200,\n",
    "    weights=[embedding_matrix_200],\n",
    "    input_length=MAX_LENGTH, \n",
    "    trainable=True\n",
    ")\n",
    "\n",
    "print(\"Embedding layer created successfully.\")"
   ]
  },
  {
   "cell_type": "markdown",
   "metadata": {
    "id": "JhjWA69iYE75"
   },
   "source": [
    "# Model "
   ]
  },
  {
   "cell_type": "code",
   "execution_count": 246,
   "metadata": {
    "ExecuteTime": {
     "end_time": "2024-05-25T11:55:10.841565900Z",
     "start_time": "2024-05-25T11:55:10.824552Z"
    },
    "collapsed": false,
    "jupyter": {
     "outputs_hidden": false
    }
   },
   "outputs": [],
   "source": [
    "BATCH_SIZE = 64\n",
    "EPOCHS = 150\n",
    "l2_coef = 0.001"
   ]
  },
  {
   "cell_type": "code",
   "execution_count": 256,
   "metadata": {
    "ExecuteTime": {
     "end_time": "2024-05-25T12:02:39.792151Z",
     "start_time": "2024-05-25T12:02:39.673926600Z"
    },
    "collapsed": false,
    "jupyter": {
     "outputs_hidden": false
    }
   },
   "outputs": [
    {
     "data": {
      "text/html": [
       "<pre style=\"white-space:pre;overflow-x:auto;line-height:normal;font-family:Menlo,'DejaVu Sans Mono',consolas,'Courier New',monospace\"><span style=\"font-weight: bold\">Model: \"functional_45\"</span>\n",
       "</pre>\n"
      ],
      "text/plain": [
       "\u001b[1mModel: \"functional_45\"\u001b[0m\n"
      ]
     },
     "metadata": {},
     "output_type": "display_data"
    },
    {
     "data": {
      "text/html": [
       "<pre style=\"white-space:pre;overflow-x:auto;line-height:normal;font-family:Menlo,'DejaVu Sans Mono',consolas,'Courier New',monospace\">┏━━━━━━━━━━━━━━━━━━━━━┳━━━━━━━━━━━━━━━━━━━┳━━━━━━━━━━━━┳━━━━━━━━━━━━━━━━━━━┓\n",
       "┃<span style=\"font-weight: bold\"> Layer (type)        </span>┃<span style=\"font-weight: bold\"> Output Shape      </span>┃<span style=\"font-weight: bold\">    Param # </span>┃<span style=\"font-weight: bold\"> Connected to      </span>┃\n",
       "┡━━━━━━━━━━━━━━━━━━━━━╇━━━━━━━━━━━━━━━━━━━╇━━━━━━━━━━━━╇━━━━━━━━━━━━━━━━━━━┩\n",
       "│ input_layer_27      │ (<span style=\"color: #00d7ff; text-decoration-color: #00d7ff\">None</span>, <span style=\"color: #00af00; text-decoration-color: #00af00\">24</span>)        │          <span style=\"color: #00af00; text-decoration-color: #00af00\">0</span> │ -                 │\n",
       "│ (<span style=\"color: #0087ff; text-decoration-color: #0087ff\">InputLayer</span>)        │                   │            │                   │\n",
       "├─────────────────────┼───────────────────┼────────────┼───────────────────┤\n",
       "│ embedding_4         │ (<span style=\"color: #00d7ff; text-decoration-color: #00d7ff\">None</span>, <span style=\"color: #00af00; text-decoration-color: #00af00\">24</span>, <span style=\"color: #00af00; text-decoration-color: #00af00\">200</span>)   │  <span style=\"color: #00af00; text-decoration-color: #00af00\">3,548,000</span> │ input_layer_27[<span style=\"color: #00af00; text-decoration-color: #00af00\">0</span>… │\n",
       "│ (<span style=\"color: #0087ff; text-decoration-color: #0087ff\">Embedding</span>)         │                   │            │                   │\n",
       "├─────────────────────┼───────────────────┼────────────┼───────────────────┤\n",
       "│ spatial_dropout1d_… │ (<span style=\"color: #00d7ff; text-decoration-color: #00d7ff\">None</span>, <span style=\"color: #00af00; text-decoration-color: #00af00\">24</span>, <span style=\"color: #00af00; text-decoration-color: #00af00\">200</span>)   │          <span style=\"color: #00af00; text-decoration-color: #00af00\">0</span> │ embedding_4[<span style=\"color: #00af00; text-decoration-color: #00af00\">8</span>][<span style=\"color: #00af00; text-decoration-color: #00af00\">0</span>] │\n",
       "│ (<span style=\"color: #0087ff; text-decoration-color: #0087ff\">SpatialDropout1D</span>)  │                   │            │                   │\n",
       "├─────────────────────┼───────────────────┼────────────┼───────────────────┤\n",
       "│ multi_head_attenti… │ (<span style=\"color: #00d7ff; text-decoration-color: #00d7ff\">None</span>, <span style=\"color: #00af00; text-decoration-color: #00af00\">24</span>, <span style=\"color: #00af00; text-decoration-color: #00af00\">200</span>)   │    <span style=\"color: #00af00; text-decoration-color: #00af00\">205,768</span> │ spatial_dropout1… │\n",
       "│ (<span style=\"color: #0087ff; text-decoration-color: #0087ff\">MultiHeadAttentio…</span> │                   │            │ spatial_dropout1… │\n",
       "├─────────────────────┼───────────────────┼────────────┼───────────────────┤\n",
       "│ layer_normalizatio… │ (<span style=\"color: #00d7ff; text-decoration-color: #00d7ff\">None</span>, <span style=\"color: #00af00; text-decoration-color: #00af00\">24</span>, <span style=\"color: #00af00; text-decoration-color: #00af00\">200</span>)   │        <span style=\"color: #00af00; text-decoration-color: #00af00\">400</span> │ multi_head_atten… │\n",
       "│ (<span style=\"color: #0087ff; text-decoration-color: #0087ff\">LayerNormalizatio…</span> │                   │            │                   │\n",
       "├─────────────────────┼───────────────────┼────────────┼───────────────────┤\n",
       "│ conv1d_96 (<span style=\"color: #0087ff; text-decoration-color: #0087ff\">Conv1D</span>)  │ (<span style=\"color: #00d7ff; text-decoration-color: #00d7ff\">None</span>, <span style=\"color: #00af00; text-decoration-color: #00af00\">24</span>, <span style=\"color: #00af00; text-decoration-color: #00af00\">256</span>)   │    <span style=\"color: #00af00; text-decoration-color: #00af00\">153,856</span> │ layer_normalizat… │\n",
       "├─────────────────────┼───────────────────┼────────────┼───────────────────┤\n",
       "│ max_pooling1d_93    │ (<span style=\"color: #00d7ff; text-decoration-color: #00d7ff\">None</span>, <span style=\"color: #00af00; text-decoration-color: #00af00\">12</span>, <span style=\"color: #00af00; text-decoration-color: #00af00\">256</span>)   │          <span style=\"color: #00af00; text-decoration-color: #00af00\">0</span> │ conv1d_96[<span style=\"color: #00af00; text-decoration-color: #00af00\">0</span>][<span style=\"color: #00af00; text-decoration-color: #00af00\">0</span>]   │\n",
       "│ (<span style=\"color: #0087ff; text-decoration-color: #0087ff\">MaxPooling1D</span>)      │                   │            │                   │\n",
       "├─────────────────────┼───────────────────┼────────────┼───────────────────┤\n",
       "│ conv1d_97 (<span style=\"color: #0087ff; text-decoration-color: #0087ff\">Conv1D</span>)  │ (<span style=\"color: #00d7ff; text-decoration-color: #00d7ff\">None</span>, <span style=\"color: #00af00; text-decoration-color: #00af00\">12</span>, <span style=\"color: #00af00; text-decoration-color: #00af00\">256</span>)   │    <span style=\"color: #00af00; text-decoration-color: #00af00\">196,864</span> │ max_pooling1d_93… │\n",
       "├─────────────────────┼───────────────────┼────────────┼───────────────────┤\n",
       "│ max_pooling1d_94    │ (<span style=\"color: #00d7ff; text-decoration-color: #00d7ff\">None</span>, <span style=\"color: #00af00; text-decoration-color: #00af00\">6</span>, <span style=\"color: #00af00; text-decoration-color: #00af00\">256</span>)    │          <span style=\"color: #00af00; text-decoration-color: #00af00\">0</span> │ conv1d_97[<span style=\"color: #00af00; text-decoration-color: #00af00\">0</span>][<span style=\"color: #00af00; text-decoration-color: #00af00\">0</span>]   │\n",
       "│ (<span style=\"color: #0087ff; text-decoration-color: #0087ff\">MaxPooling1D</span>)      │                   │            │                   │\n",
       "├─────────────────────┼───────────────────┼────────────┼───────────────────┤\n",
       "│ conv1d_98 (<span style=\"color: #0087ff; text-decoration-color: #0087ff\">Conv1D</span>)  │ (<span style=\"color: #00d7ff; text-decoration-color: #00d7ff\">None</span>, <span style=\"color: #00af00; text-decoration-color: #00af00\">6</span>, <span style=\"color: #00af00; text-decoration-color: #00af00\">128</span>)    │     <span style=\"color: #00af00; text-decoration-color: #00af00\">98,432</span> │ max_pooling1d_94… │\n",
       "├─────────────────────┼───────────────────┼────────────┼───────────────────┤\n",
       "│ max_pooling1d_95    │ (<span style=\"color: #00d7ff; text-decoration-color: #00d7ff\">None</span>, <span style=\"color: #00af00; text-decoration-color: #00af00\">3</span>, <span style=\"color: #00af00; text-decoration-color: #00af00\">128</span>)    │          <span style=\"color: #00af00; text-decoration-color: #00af00\">0</span> │ conv1d_98[<span style=\"color: #00af00; text-decoration-color: #00af00\">0</span>][<span style=\"color: #00af00; text-decoration-color: #00af00\">0</span>]   │\n",
       "│ (<span style=\"color: #0087ff; text-decoration-color: #0087ff\">MaxPooling1D</span>)      │                   │            │                   │\n",
       "├─────────────────────┼───────────────────┼────────────┼───────────────────┤\n",
       "│ global_max_pooling… │ (<span style=\"color: #00d7ff; text-decoration-color: #00d7ff\">None</span>, <span style=\"color: #00af00; text-decoration-color: #00af00\">128</span>)       │          <span style=\"color: #00af00; text-decoration-color: #00af00\">0</span> │ max_pooling1d_95… │\n",
       "│ (<span style=\"color: #0087ff; text-decoration-color: #0087ff\">GlobalMaxPooling1…</span> │                   │            │                   │\n",
       "├─────────────────────┼───────────────────┼────────────┼───────────────────┤\n",
       "│ dropout_139         │ (<span style=\"color: #00d7ff; text-decoration-color: #00d7ff\">None</span>, <span style=\"color: #00af00; text-decoration-color: #00af00\">128</span>)       │          <span style=\"color: #00af00; text-decoration-color: #00af00\">0</span> │ global_max_pooli… │\n",
       "│ (<span style=\"color: #0087ff; text-decoration-color: #0087ff\">Dropout</span>)           │                   │            │                   │\n",
       "├─────────────────────┼───────────────────┼────────────┼───────────────────┤\n",
       "│ batch_normalizatio… │ (<span style=\"color: #00d7ff; text-decoration-color: #00d7ff\">None</span>, <span style=\"color: #00af00; text-decoration-color: #00af00\">128</span>)       │        <span style=\"color: #00af00; text-decoration-color: #00af00\">512</span> │ dropout_139[<span style=\"color: #00af00; text-decoration-color: #00af00\">0</span>][<span style=\"color: #00af00; text-decoration-color: #00af00\">0</span>] │\n",
       "│ (<span style=\"color: #0087ff; text-decoration-color: #0087ff\">BatchNormalizatio…</span> │                   │            │                   │\n",
       "├─────────────────────┼───────────────────┼────────────┼───────────────────┤\n",
       "│ dense_62 (<span style=\"color: #0087ff; text-decoration-color: #0087ff\">Dense</span>)    │ (<span style=\"color: #00d7ff; text-decoration-color: #00d7ff\">None</span>, <span style=\"color: #00af00; text-decoration-color: #00af00\">512</span>)       │     <span style=\"color: #00af00; text-decoration-color: #00af00\">66,048</span> │ batch_normalizat… │\n",
       "├─────────────────────┼───────────────────┼────────────┼───────────────────┤\n",
       "│ dropout_140         │ (<span style=\"color: #00d7ff; text-decoration-color: #00d7ff\">None</span>, <span style=\"color: #00af00; text-decoration-color: #00af00\">512</span>)       │          <span style=\"color: #00af00; text-decoration-color: #00af00\">0</span> │ dense_62[<span style=\"color: #00af00; text-decoration-color: #00af00\">0</span>][<span style=\"color: #00af00; text-decoration-color: #00af00\">0</span>]    │\n",
       "│ (<span style=\"color: #0087ff; text-decoration-color: #0087ff\">Dropout</span>)           │                   │            │                   │\n",
       "├─────────────────────┼───────────────────┼────────────┼───────────────────┤\n",
       "│ dense_63 (<span style=\"color: #0087ff; text-decoration-color: #0087ff\">Dense</span>)    │ (<span style=\"color: #00d7ff; text-decoration-color: #00d7ff\">None</span>, <span style=\"color: #00af00; text-decoration-color: #00af00\">128</span>)       │     <span style=\"color: #00af00; text-decoration-color: #00af00\">65,664</span> │ dropout_140[<span style=\"color: #00af00; text-decoration-color: #00af00\">0</span>][<span style=\"color: #00af00; text-decoration-color: #00af00\">0</span>] │\n",
       "├─────────────────────┼───────────────────┼────────────┼───────────────────┤\n",
       "│ dense_64 (<span style=\"color: #0087ff; text-decoration-color: #0087ff\">Dense</span>)    │ (<span style=\"color: #00d7ff; text-decoration-color: #00d7ff\">None</span>, <span style=\"color: #00af00; text-decoration-color: #00af00\">2</span>)         │        <span style=\"color: #00af00; text-decoration-color: #00af00\">258</span> │ dense_63[<span style=\"color: #00af00; text-decoration-color: #00af00\">0</span>][<span style=\"color: #00af00; text-decoration-color: #00af00\">0</span>]    │\n",
       "└─────────────────────┴───────────────────┴────────────┴───────────────────┘\n",
       "</pre>\n"
      ],
      "text/plain": [
       "┏━━━━━━━━━━━━━━━━━━━━━┳━━━━━━━━━━━━━━━━━━━┳━━━━━━━━━━━━┳━━━━━━━━━━━━━━━━━━━┓\n",
       "┃\u001b[1m \u001b[0m\u001b[1mLayer (type)       \u001b[0m\u001b[1m \u001b[0m┃\u001b[1m \u001b[0m\u001b[1mOutput Shape     \u001b[0m\u001b[1m \u001b[0m┃\u001b[1m \u001b[0m\u001b[1m   Param #\u001b[0m\u001b[1m \u001b[0m┃\u001b[1m \u001b[0m\u001b[1mConnected to     \u001b[0m\u001b[1m \u001b[0m┃\n",
       "┡━━━━━━━━━━━━━━━━━━━━━╇━━━━━━━━━━━━━━━━━━━╇━━━━━━━━━━━━╇━━━━━━━━━━━━━━━━━━━┩\n",
       "│ input_layer_27      │ (\u001b[38;5;45mNone\u001b[0m, \u001b[38;5;34m24\u001b[0m)        │          \u001b[38;5;34m0\u001b[0m │ -                 │\n",
       "│ (\u001b[38;5;33mInputLayer\u001b[0m)        │                   │            │                   │\n",
       "├─────────────────────┼───────────────────┼────────────┼───────────────────┤\n",
       "│ embedding_4         │ (\u001b[38;5;45mNone\u001b[0m, \u001b[38;5;34m24\u001b[0m, \u001b[38;5;34m200\u001b[0m)   │  \u001b[38;5;34m3,548,000\u001b[0m │ input_layer_27[\u001b[38;5;34m0\u001b[0m… │\n",
       "│ (\u001b[38;5;33mEmbedding\u001b[0m)         │                   │            │                   │\n",
       "├─────────────────────┼───────────────────┼────────────┼───────────────────┤\n",
       "│ spatial_dropout1d_… │ (\u001b[38;5;45mNone\u001b[0m, \u001b[38;5;34m24\u001b[0m, \u001b[38;5;34m200\u001b[0m)   │          \u001b[38;5;34m0\u001b[0m │ embedding_4[\u001b[38;5;34m8\u001b[0m][\u001b[38;5;34m0\u001b[0m] │\n",
       "│ (\u001b[38;5;33mSpatialDropout1D\u001b[0m)  │                   │            │                   │\n",
       "├─────────────────────┼───────────────────┼────────────┼───────────────────┤\n",
       "│ multi_head_attenti… │ (\u001b[38;5;45mNone\u001b[0m, \u001b[38;5;34m24\u001b[0m, \u001b[38;5;34m200\u001b[0m)   │    \u001b[38;5;34m205,768\u001b[0m │ spatial_dropout1… │\n",
       "│ (\u001b[38;5;33mMultiHeadAttentio…\u001b[0m │                   │            │ spatial_dropout1… │\n",
       "├─────────────────────┼───────────────────┼────────────┼───────────────────┤\n",
       "│ layer_normalizatio… │ (\u001b[38;5;45mNone\u001b[0m, \u001b[38;5;34m24\u001b[0m, \u001b[38;5;34m200\u001b[0m)   │        \u001b[38;5;34m400\u001b[0m │ multi_head_atten… │\n",
       "│ (\u001b[38;5;33mLayerNormalizatio…\u001b[0m │                   │            │                   │\n",
       "├─────────────────────┼───────────────────┼────────────┼───────────────────┤\n",
       "│ conv1d_96 (\u001b[38;5;33mConv1D\u001b[0m)  │ (\u001b[38;5;45mNone\u001b[0m, \u001b[38;5;34m24\u001b[0m, \u001b[38;5;34m256\u001b[0m)   │    \u001b[38;5;34m153,856\u001b[0m │ layer_normalizat… │\n",
       "├─────────────────────┼───────────────────┼────────────┼───────────────────┤\n",
       "│ max_pooling1d_93    │ (\u001b[38;5;45mNone\u001b[0m, \u001b[38;5;34m12\u001b[0m, \u001b[38;5;34m256\u001b[0m)   │          \u001b[38;5;34m0\u001b[0m │ conv1d_96[\u001b[38;5;34m0\u001b[0m][\u001b[38;5;34m0\u001b[0m]   │\n",
       "│ (\u001b[38;5;33mMaxPooling1D\u001b[0m)      │                   │            │                   │\n",
       "├─────────────────────┼───────────────────┼────────────┼───────────────────┤\n",
       "│ conv1d_97 (\u001b[38;5;33mConv1D\u001b[0m)  │ (\u001b[38;5;45mNone\u001b[0m, \u001b[38;5;34m12\u001b[0m, \u001b[38;5;34m256\u001b[0m)   │    \u001b[38;5;34m196,864\u001b[0m │ max_pooling1d_93… │\n",
       "├─────────────────────┼───────────────────┼────────────┼───────────────────┤\n",
       "│ max_pooling1d_94    │ (\u001b[38;5;45mNone\u001b[0m, \u001b[38;5;34m6\u001b[0m, \u001b[38;5;34m256\u001b[0m)    │          \u001b[38;5;34m0\u001b[0m │ conv1d_97[\u001b[38;5;34m0\u001b[0m][\u001b[38;5;34m0\u001b[0m]   │\n",
       "│ (\u001b[38;5;33mMaxPooling1D\u001b[0m)      │                   │            │                   │\n",
       "├─────────────────────┼───────────────────┼────────────┼───────────────────┤\n",
       "│ conv1d_98 (\u001b[38;5;33mConv1D\u001b[0m)  │ (\u001b[38;5;45mNone\u001b[0m, \u001b[38;5;34m6\u001b[0m, \u001b[38;5;34m128\u001b[0m)    │     \u001b[38;5;34m98,432\u001b[0m │ max_pooling1d_94… │\n",
       "├─────────────────────┼───────────────────┼────────────┼───────────────────┤\n",
       "│ max_pooling1d_95    │ (\u001b[38;5;45mNone\u001b[0m, \u001b[38;5;34m3\u001b[0m, \u001b[38;5;34m128\u001b[0m)    │          \u001b[38;5;34m0\u001b[0m │ conv1d_98[\u001b[38;5;34m0\u001b[0m][\u001b[38;5;34m0\u001b[0m]   │\n",
       "│ (\u001b[38;5;33mMaxPooling1D\u001b[0m)      │                   │            │                   │\n",
       "├─────────────────────┼───────────────────┼────────────┼───────────────────┤\n",
       "│ global_max_pooling… │ (\u001b[38;5;45mNone\u001b[0m, \u001b[38;5;34m128\u001b[0m)       │          \u001b[38;5;34m0\u001b[0m │ max_pooling1d_95… │\n",
       "│ (\u001b[38;5;33mGlobalMaxPooling1…\u001b[0m │                   │            │                   │\n",
       "├─────────────────────┼───────────────────┼────────────┼───────────────────┤\n",
       "│ dropout_139         │ (\u001b[38;5;45mNone\u001b[0m, \u001b[38;5;34m128\u001b[0m)       │          \u001b[38;5;34m0\u001b[0m │ global_max_pooli… │\n",
       "│ (\u001b[38;5;33mDropout\u001b[0m)           │                   │            │                   │\n",
       "├─────────────────────┼───────────────────┼────────────┼───────────────────┤\n",
       "│ batch_normalizatio… │ (\u001b[38;5;45mNone\u001b[0m, \u001b[38;5;34m128\u001b[0m)       │        \u001b[38;5;34m512\u001b[0m │ dropout_139[\u001b[38;5;34m0\u001b[0m][\u001b[38;5;34m0\u001b[0m] │\n",
       "│ (\u001b[38;5;33mBatchNormalizatio…\u001b[0m │                   │            │                   │\n",
       "├─────────────────────┼───────────────────┼────────────┼───────────────────┤\n",
       "│ dense_62 (\u001b[38;5;33mDense\u001b[0m)    │ (\u001b[38;5;45mNone\u001b[0m, \u001b[38;5;34m512\u001b[0m)       │     \u001b[38;5;34m66,048\u001b[0m │ batch_normalizat… │\n",
       "├─────────────────────┼───────────────────┼────────────┼───────────────────┤\n",
       "│ dropout_140         │ (\u001b[38;5;45mNone\u001b[0m, \u001b[38;5;34m512\u001b[0m)       │          \u001b[38;5;34m0\u001b[0m │ dense_62[\u001b[38;5;34m0\u001b[0m][\u001b[38;5;34m0\u001b[0m]    │\n",
       "│ (\u001b[38;5;33mDropout\u001b[0m)           │                   │            │                   │\n",
       "├─────────────────────┼───────────────────┼────────────┼───────────────────┤\n",
       "│ dense_63 (\u001b[38;5;33mDense\u001b[0m)    │ (\u001b[38;5;45mNone\u001b[0m, \u001b[38;5;34m128\u001b[0m)       │     \u001b[38;5;34m65,664\u001b[0m │ dropout_140[\u001b[38;5;34m0\u001b[0m][\u001b[38;5;34m0\u001b[0m] │\n",
       "├─────────────────────┼───────────────────┼────────────┼───────────────────┤\n",
       "│ dense_64 (\u001b[38;5;33mDense\u001b[0m)    │ (\u001b[38;5;45mNone\u001b[0m, \u001b[38;5;34m2\u001b[0m)         │        \u001b[38;5;34m258\u001b[0m │ dense_63[\u001b[38;5;34m0\u001b[0m][\u001b[38;5;34m0\u001b[0m]    │\n",
       "└─────────────────────┴───────────────────┴────────────┴───────────────────┘\n"
      ]
     },
     "metadata": {},
     "output_type": "display_data"
    },
    {
     "data": {
      "text/html": [
       "<pre style=\"white-space:pre;overflow-x:auto;line-height:normal;font-family:Menlo,'DejaVu Sans Mono',consolas,'Courier New',monospace\"><span style=\"font-weight: bold\"> Total params: </span><span style=\"color: #00af00; text-decoration-color: #00af00\">4,335,802</span> (16.54 MB)\n",
       "</pre>\n"
      ],
      "text/plain": [
       "\u001b[1m Total params: \u001b[0m\u001b[38;5;34m4,335,802\u001b[0m (16.54 MB)\n"
      ]
     },
     "metadata": {},
     "output_type": "display_data"
    },
    {
     "data": {
      "text/html": [
       "<pre style=\"white-space:pre;overflow-x:auto;line-height:normal;font-family:Menlo,'DejaVu Sans Mono',consolas,'Courier New',monospace\"><span style=\"font-weight: bold\"> Trainable params: </span><span style=\"color: #00af00; text-decoration-color: #00af00\">4,335,546</span> (16.54 MB)\n",
       "</pre>\n"
      ],
      "text/plain": [
       "\u001b[1m Trainable params: \u001b[0m\u001b[38;5;34m4,335,546\u001b[0m (16.54 MB)\n"
      ]
     },
     "metadata": {},
     "output_type": "display_data"
    },
    {
     "data": {
      "text/html": [
       "<pre style=\"white-space:pre;overflow-x:auto;line-height:normal;font-family:Menlo,'DejaVu Sans Mono',consolas,'Courier New',monospace\"><span style=\"font-weight: bold\"> Non-trainable params: </span><span style=\"color: #00af00; text-decoration-color: #00af00\">256</span> (1.00 KB)\n",
       "</pre>\n"
      ],
      "text/plain": [
       "\u001b[1m Non-trainable params: \u001b[0m\u001b[38;5;34m256\u001b[0m (1.00 KB)\n"
      ]
     },
     "metadata": {},
     "output_type": "display_data"
    }
   ],
   "source": [
    "input = Input(shape=(MAX_LENGTH,), dtype='int32')\n",
    "\n",
    "# Embedding layer\n",
    "embedding = embedding_layer_200d(input)\n",
    "\n",
    "# Spatial dropout\n",
    "x = SpatialDropout1D(0.2)(embedding)\n",
    "\n",
    "# # Bidirectional GRU layers\n",
    "# x = Bidirectional(GRU(128, return_sequences=True, kernel_regularizer=l2(l2_coef), bias_regularizer=l2(l2_coef), recurrent_regularizer=l2(l2_coef)), merge_mode='sum')(x)\n",
    "# x = GRU(64, return_sequences=True, kernel_regularizer=l2(l2_coef), bias_regularizer=l2(l2_coef), recurrent_regularizer=l2(l2_coef))(x)\n",
    "\n",
    "# Multi-head attention\n",
    "attention = MultiHeadAttention(num_heads=4, key_dim=64)(x, x)\n",
    "attention = LayerNormalization()(attention)\n",
    "\n",
    "# Convolution and pooling layers\n",
    "conv1 = Conv1D(256, kernel_size=3, activation='relu', padding='same', kernel_regularizer=l2(l2_coef))(attention)\n",
    "maxpool1 = MaxPooling1D(pool_size=2)(conv1)\n",
    "x = Dropout(0.3)(x)\n",
    "\n",
    "conv2 = Conv1D(256, kernel_size=3, activation='relu', padding='same', kernel_regularizer=l2(l2_coef))(maxpool1)\n",
    "maxpool2 = MaxPooling1D(pool_size=2)(conv2)\n",
    "x = Dropout(0.3)(x)\n",
    "\n",
    "conv3 = Conv1D(128, kernel_size=3, activation='relu', padding='same', kernel_regularizer=l2(l2_coef))(maxpool2)\n",
    "maxpool3 = MaxPooling1D(pool_size=2)(conv3)\n",
    "x = Dropout(0.3)(x)\n",
    "\n",
    "conv4 = Conv1D(128, kernel_size=3, activation='relu', padding='same', kernel_regularizer=l2(l2_coef))(maxpool3)\n",
    "maxpool4 = MaxPooling1D(pool_size=2)(conv4)\n",
    "\n",
    "# conv5 = Conv1D(64, kernel_size=3, activation='relu', padding='same', kernel_regularizer=l2(l2_coef))(maxpool4)\n",
    "# maxpool5 = MaxPooling1D(pool_size=2)(conv5)\n",
    "# x = Dropout(0.5)(x)\n",
    "\n",
    "# conv6 = Conv1D(64, kernel_size=3, activation='relu', padding='same', kernel_regularizer=l2(l2_coef))(maxpool5)\n",
    "# maxpool6 = MaxPooling1D(pool_size=2)(conv6)\n",
    "\n",
    "x = GlobalMaxPooling1D()(maxpool3)\n",
    "x = Dropout(0.3)(x)\n",
    "x = BatchNormalization()(x)\n",
    "\n",
    "# Dense layers\n",
    "x = Dense(512, activation='relu', kernel_regularizer=l2(l2_coef))(x)\n",
    "x = Dropout(0.5)(x)\n",
    "x = Dense(128, activation='relu', kernel_regularizer=l2(l2_coef))(x)\n",
    "\n",
    "# Output layer\n",
    "outputs = Dense(2, activation='sigmoid')(x)\n",
    "\n",
    "# Compile the model\n",
    "model = Model(input, outputs)\n",
    "model.compile(optimizer='adam', loss='binary_crossentropy', metrics=['accuracy'])\n",
    "\n",
    "# Summary of the model\n",
    "model.summary()"
   ]
  },
  {
   "cell_type": "code",
   "execution_count": 257,
   "metadata": {
    "ExecuteTime": {
     "end_time": "2024-05-25T12:10:32.613537900Z",
     "start_time": "2024-05-25T12:02:42.121541500Z"
    },
    "collapsed": false,
    "jupyter": {
     "outputs_hidden": false
    }
   },
   "outputs": [
    {
     "name": "stdout",
     "output_type": "stream",
     "text": [
      "Epoch 1/150\n",
      "\u001b[1m131/131\u001b[0m \u001b[32m━━━━━━━━━━━━━━━━━━━━\u001b[0m\u001b[37m\u001b[0m \u001b[1m12s\u001b[0m 62ms/step - accuracy: 0.6259 - loss: 1.2522 - val_accuracy: 0.7499 - val_loss: 0.6867 - learning_rate: 0.0010\n",
      "Epoch 2/150\n",
      "\u001b[1m131/131\u001b[0m \u001b[32m━━━━━━━━━━━━━━━━━━━━\u001b[0m\u001b[37m\u001b[0m \u001b[1m8s\u001b[0m 58ms/step - accuracy: 0.7254 - loss: 0.5877 - val_accuracy: 0.3687 - val_loss: 0.5873 - learning_rate: 0.0010\n",
      "Epoch 3/150\n",
      "\u001b[1m131/131\u001b[0m \u001b[32m━━━━━━━━━━━━━━━━━━━━\u001b[0m\u001b[37m\u001b[0m \u001b[1m7s\u001b[0m 53ms/step - accuracy: 0.7431 - loss: 0.4114 - val_accuracy: 0.7394 - val_loss: 0.4484 - learning_rate: 0.0010\n",
      "Epoch 4/150\n",
      "\u001b[1m131/131\u001b[0m \u001b[32m━━━━━━━━━━━━━━━━━━━━\u001b[0m\u001b[37m\u001b[0m \u001b[1m7s\u001b[0m 52ms/step - accuracy: 0.7505 - loss: 0.3603 - val_accuracy: 0.7780 - val_loss: 0.3582 - learning_rate: 0.0010\n",
      "Epoch 5/150\n",
      "\u001b[1m131/131\u001b[0m \u001b[32m━━━━━━━━━━━━━━━━━━━━\u001b[0m\u001b[37m\u001b[0m \u001b[1m8s\u001b[0m 59ms/step - accuracy: 0.7593 - loss: 0.3395 - val_accuracy: 0.7789 - val_loss: 0.3481 - learning_rate: 0.0010\n",
      "Epoch 6/150\n",
      "\u001b[1m131/131\u001b[0m \u001b[32m━━━━━━━━━━━━━━━━━━━━\u001b[0m\u001b[37m\u001b[0m \u001b[1m9s\u001b[0m 68ms/step - accuracy: 0.7615 - loss: 0.3297 - val_accuracy: 0.7313 - val_loss: 0.3657 - learning_rate: 0.0010\n",
      "Epoch 7/150\n",
      "\u001b[1m131/131\u001b[0m \u001b[32m━━━━━━━━━━━━━━━━━━━━\u001b[0m\u001b[37m\u001b[0m \u001b[1m10s\u001b[0m 73ms/step - accuracy: 0.7714 - loss: 0.3244 - val_accuracy: 0.7742 - val_loss: 0.3668 - learning_rate: 0.0010\n",
      "Epoch 8/150\n",
      "\u001b[1m131/131\u001b[0m \u001b[32m━━━━━━━━━━━━━━━━━━━━\u001b[0m\u001b[37m\u001b[0m \u001b[1m10s\u001b[0m 77ms/step - accuracy: 0.7723 - loss: 0.3232 - val_accuracy: 0.7804 - val_loss: 0.3393 - learning_rate: 0.0010\n",
      "Epoch 9/150\n",
      "\u001b[1m131/131\u001b[0m \u001b[32m━━━━━━━━━━━━━━━━━━━━\u001b[0m\u001b[37m\u001b[0m \u001b[1m11s\u001b[0m 83ms/step - accuracy: 0.7854 - loss: 0.3180 - val_accuracy: 0.7870 - val_loss: 0.3391 - learning_rate: 0.0010\n",
      "Epoch 10/150\n",
      "\u001b[1m131/131\u001b[0m \u001b[32m━━━━━━━━━━━━━━━━━━━━\u001b[0m\u001b[37m\u001b[0m \u001b[1m11s\u001b[0m 81ms/step - accuracy: 0.7943 - loss: 0.3164 - val_accuracy: 0.5889 - val_loss: 0.3476 - learning_rate: 0.0010\n",
      "Epoch 11/150\n",
      "\u001b[1m131/131\u001b[0m \u001b[32m━━━━━━━━━━━━━━━━━━━━\u001b[0m\u001b[37m\u001b[0m \u001b[1m10s\u001b[0m 77ms/step - accuracy: 0.8043 - loss: 0.3147 - val_accuracy: 0.7666 - val_loss: 0.3407 - learning_rate: 0.0010\n",
      "Epoch 12/150\n",
      "\u001b[1m130/131\u001b[0m \u001b[32m━━━━━━━━━━━━━━━━━━━\u001b[0m\u001b[37m━\u001b[0m \u001b[1m0s\u001b[0m 92ms/step - accuracy: 0.8186 - loss: 0.3146\n",
      "Epoch 12: ReduceLROnPlateau reducing learning rate to 0.00020000000949949026.\n",
      "\u001b[1m131/131\u001b[0m \u001b[32m━━━━━━━━━━━━━━━━━━━━\u001b[0m\u001b[37m\u001b[0m \u001b[1m13s\u001b[0m 96ms/step - accuracy: 0.8187 - loss: 0.3146 - val_accuracy: 0.7337 - val_loss: 0.3410 - learning_rate: 0.0010\n",
      "Epoch 13/150\n",
      "\u001b[1m131/131\u001b[0m \u001b[32m━━━━━━━━━━━━━━━━━━━━\u001b[0m\u001b[37m\u001b[0m \u001b[1m10s\u001b[0m 77ms/step - accuracy: 0.8210 - loss: 0.3121 - val_accuracy: 0.7742 - val_loss: 0.3383 - learning_rate: 2.0000e-04\n",
      "Epoch 14/150\n",
      "\u001b[1m131/131\u001b[0m \u001b[32m━━━━━━━━━━━━━━━━━━━━\u001b[0m\u001b[37m\u001b[0m \u001b[1m9s\u001b[0m 68ms/step - accuracy: 0.8255 - loss: 0.3101 - val_accuracy: 0.7742 - val_loss: 0.3367 - learning_rate: 2.0000e-04\n",
      "Epoch 15/150\n",
      "\u001b[1m131/131\u001b[0m \u001b[32m━━━━━━━━━━━━━━━━━━━━\u001b[0m\u001b[37m\u001b[0m \u001b[1m9s\u001b[0m 67ms/step - accuracy: 0.8355 - loss: 0.3093 - val_accuracy: 0.7680 - val_loss: 0.3370 - learning_rate: 2.0000e-04\n",
      "Epoch 16/150\n",
      "\u001b[1m131/131\u001b[0m \u001b[32m━━━━━━━━━━━━━━━━━━━━\u001b[0m\u001b[37m\u001b[0m \u001b[1m10s\u001b[0m 74ms/step - accuracy: 0.8356 - loss: 0.3087 - val_accuracy: 0.7799 - val_loss: 0.3375 - learning_rate: 2.0000e-04\n",
      "Epoch 17/150\n",
      "\u001b[1m131/131\u001b[0m \u001b[32m━━━━━━━━━━━━━━━━━━━━\u001b[0m\u001b[37m\u001b[0m \u001b[1m9s\u001b[0m 67ms/step - accuracy: 0.8356 - loss: 0.3083 - val_accuracy: 0.7718 - val_loss: 0.3356 - learning_rate: 2.0000e-04\n",
      "Epoch 18/150\n",
      "\u001b[1m131/131\u001b[0m \u001b[32m━━━━━━━━━━━━━━━━━━━━\u001b[0m\u001b[37m\u001b[0m \u001b[1m8s\u001b[0m 64ms/step - accuracy: 0.8399 - loss: 0.3075 - val_accuracy: 0.7832 - val_loss: 0.3371 - learning_rate: 2.0000e-04\n",
      "Epoch 19/150\n",
      "\u001b[1m131/131\u001b[0m \u001b[32m━━━━━━━━━━━━━━━━━━━━\u001b[0m\u001b[37m\u001b[0m \u001b[1m8s\u001b[0m 57ms/step - accuracy: 0.8385 - loss: 0.3072 - val_accuracy: 0.7804 - val_loss: 0.3372 - learning_rate: 2.0000e-04\n",
      "Epoch 20/150\n",
      "\u001b[1m130/131\u001b[0m \u001b[32m━━━━━━━━━━━━━━━━━━━\u001b[0m\u001b[37m━\u001b[0m \u001b[1m0s\u001b[0m 56ms/step - accuracy: 0.8378 - loss: 0.3071\n",
      "Epoch 20: ReduceLROnPlateau reducing learning rate to 0.0001.\n",
      "\u001b[1m131/131\u001b[0m \u001b[32m━━━━━━━━━━━━━━━━━━━━\u001b[0m\u001b[37m\u001b[0m \u001b[1m8s\u001b[0m 59ms/step - accuracy: 0.8379 - loss: 0.3071 - val_accuracy: 0.7804 - val_loss: 0.3367 - learning_rate: 2.0000e-04\n",
      "Epoch 21/150\n",
      "\u001b[1m131/131\u001b[0m \u001b[32m━━━━━━━━━━━━━━━━━━━━\u001b[0m\u001b[37m\u001b[0m \u001b[1m8s\u001b[0m 61ms/step - accuracy: 0.8424 - loss: 0.3064 - val_accuracy: 0.7813 - val_loss: 0.3359 - learning_rate: 1.0000e-04\n",
      "Epoch 22/150\n",
      "\u001b[1m131/131\u001b[0m \u001b[32m━━━━━━━━━━━━━━━━━━━━\u001b[0m\u001b[37m\u001b[0m \u001b[1m8s\u001b[0m 64ms/step - accuracy: 0.8428 - loss: 0.3061 - val_accuracy: 0.7770 - val_loss: 0.3358 - learning_rate: 1.0000e-04\n",
      "Epoch 23/150\n",
      "\u001b[1m131/131\u001b[0m \u001b[32m━━━━━━━━━━━━━━━━━━━━\u001b[0m\u001b[37m\u001b[0m \u001b[1m9s\u001b[0m 67ms/step - accuracy: 0.8461 - loss: 0.3059 - val_accuracy: 0.7813 - val_loss: 0.3358 - learning_rate: 1.0000e-04\n",
      "Epoch 24/150\n",
      "\u001b[1m131/131\u001b[0m \u001b[32m━━━━━━━━━━━━━━━━━━━━\u001b[0m\u001b[37m\u001b[0m \u001b[1m9s\u001b[0m 65ms/step - accuracy: 0.8465 - loss: 0.3061 - val_accuracy: 0.7823 - val_loss: 0.3357 - learning_rate: 1.0000e-04\n",
      "Epoch 25/150\n",
      "\u001b[1m131/131\u001b[0m \u001b[32m━━━━━━━━━━━━━━━━━━━━\u001b[0m\u001b[37m\u001b[0m \u001b[1m8s\u001b[0m 64ms/step - accuracy: 0.8485 - loss: 0.3057 - val_accuracy: 0.7770 - val_loss: 0.3360 - learning_rate: 1.0000e-04\n",
      "Epoch 26/150\n",
      "\u001b[1m131/131\u001b[0m \u001b[32m━━━━━━━━━━━━━━━━━━━━\u001b[0m\u001b[37m\u001b[0m \u001b[1m9s\u001b[0m 71ms/step - accuracy: 0.8488 - loss: 0.3055 - val_accuracy: 0.7751 - val_loss: 0.3361 - learning_rate: 1.0000e-04\n",
      "Epoch 27/150\n",
      "\u001b[1m131/131\u001b[0m \u001b[32m━━━━━━━━━━━━━━━━━━━━\u001b[0m\u001b[37m\u001b[0m \u001b[1m10s\u001b[0m 73ms/step - accuracy: 0.8489 - loss: 0.3051 - val_accuracy: 0.7813 - val_loss: 0.3354 - learning_rate: 1.0000e-04\n",
      "Epoch 28/150\n",
      "\u001b[1m131/131\u001b[0m \u001b[32m━━━━━━━━━━━━━━━━━━━━\u001b[0m\u001b[37m\u001b[0m \u001b[1m9s\u001b[0m 69ms/step - accuracy: 0.8459 - loss: 0.3049 - val_accuracy: 0.7770 - val_loss: 0.3361 - learning_rate: 1.0000e-04\n",
      "Epoch 29/150\n",
      "\u001b[1m131/131\u001b[0m \u001b[32m━━━━━━━━━━━━━━━━━━━━\u001b[0m\u001b[37m\u001b[0m \u001b[1m9s\u001b[0m 68ms/step - accuracy: 0.8507 - loss: 0.3048 - val_accuracy: 0.7851 - val_loss: 0.3365 - learning_rate: 1.0000e-04\n",
      "Epoch 30/150\n",
      "\u001b[1m131/131\u001b[0m \u001b[32m━━━━━━━━━━━━━━━━━━━━\u001b[0m\u001b[37m\u001b[0m \u001b[1m9s\u001b[0m 66ms/step - accuracy: 0.8535 - loss: 0.3047 - val_accuracy: 0.7770 - val_loss: 0.3363 - learning_rate: 1.0000e-04\n",
      "Epoch 31/150\n",
      "\u001b[1m131/131\u001b[0m \u001b[32m━━━━━━━━━━━━━━━━━━━━\u001b[0m\u001b[37m\u001b[0m \u001b[1m9s\u001b[0m 70ms/step - accuracy: 0.8523 - loss: 0.3047 - val_accuracy: 0.7770 - val_loss: 0.3360 - learning_rate: 1.0000e-04\n",
      "Epoch 32/150\n",
      "\u001b[1m131/131\u001b[0m \u001b[32m━━━━━━━━━━━━━━━━━━━━\u001b[0m\u001b[37m\u001b[0m \u001b[1m9s\u001b[0m 69ms/step - accuracy: 0.8501 - loss: 0.3049 - val_accuracy: 0.7866 - val_loss: 0.3364 - learning_rate: 1.0000e-04\n",
      "Epoch 33/150\n",
      "\u001b[1m131/131\u001b[0m \u001b[32m━━━━━━━━━━━━━━━━━━━━\u001b[0m\u001b[37m\u001b[0m \u001b[1m10s\u001b[0m 75ms/step - accuracy: 0.8580 - loss: 0.3046 - val_accuracy: 0.7832 - val_loss: 0.3365 - learning_rate: 1.0000e-04\n",
      "Epoch 34/150\n",
      "\u001b[1m131/131\u001b[0m \u001b[32m━━━━━━━━━━━━━━━━━━━━\u001b[0m\u001b[37m\u001b[0m \u001b[1m9s\u001b[0m 69ms/step - accuracy: 0.8580 - loss: 0.3045 - val_accuracy: 0.7813 - val_loss: 0.3352 - learning_rate: 1.0000e-04\n",
      "Epoch 35/150\n",
      "\u001b[1m131/131\u001b[0m \u001b[32m━━━━━━━━━━━━━━━━━━━━\u001b[0m\u001b[37m\u001b[0m \u001b[1m9s\u001b[0m 65ms/step - accuracy: 0.8537 - loss: 0.3044 - val_accuracy: 0.7704 - val_loss: 0.3364 - learning_rate: 1.0000e-04\n",
      "Epoch 36/150\n",
      "\u001b[1m131/131\u001b[0m \u001b[32m━━━━━━━━━━━━━━━━━━━━\u001b[0m\u001b[37m\u001b[0m \u001b[1m8s\u001b[0m 63ms/step - accuracy: 0.8575 - loss: 0.3043 - val_accuracy: 0.7770 - val_loss: 0.3358 - learning_rate: 1.0000e-04\n",
      "Epoch 37/150\n",
      "\u001b[1m131/131\u001b[0m \u001b[32m━━━━━━━━━━━━━━━━━━━━\u001b[0m\u001b[37m\u001b[0m \u001b[1m8s\u001b[0m 63ms/step - accuracy: 0.8439 - loss: 0.3043 - val_accuracy: 0.7813 - val_loss: 0.3354 - learning_rate: 1.0000e-04\n",
      "Epoch 38/150\n",
      "\u001b[1m131/131\u001b[0m \u001b[32m━━━━━━━━━━━━━━━━━━━━\u001b[0m\u001b[37m\u001b[0m \u001b[1m8s\u001b[0m 63ms/step - accuracy: 0.8588 - loss: 0.3039 - val_accuracy: 0.7799 - val_loss: 0.3368 - learning_rate: 1.0000e-04\n",
      "Epoch 39/150\n",
      "\u001b[1m131/131\u001b[0m \u001b[32m━━━━━━━━━━━━━━━━━━━━\u001b[0m\u001b[37m\u001b[0m \u001b[1m9s\u001b[0m 67ms/step - accuracy: 0.8595 - loss: 0.3040 - val_accuracy: 0.7718 - val_loss: 0.3366 - learning_rate: 1.0000e-04\n",
      "Epoch 40/150\n",
      "\u001b[1m131/131\u001b[0m \u001b[32m━━━━━━━━━━━━━━━━━━━━\u001b[0m\u001b[37m\u001b[0m \u001b[1m8s\u001b[0m 63ms/step - accuracy: 0.8516 - loss: 0.3037 - val_accuracy: 0.7775 - val_loss: 0.3368 - learning_rate: 1.0000e-04\n",
      "Epoch 41/150\n",
      "\u001b[1m131/131\u001b[0m \u001b[32m━━━━━━━━━━━━━━━━━━━━\u001b[0m\u001b[37m\u001b[0m \u001b[1m9s\u001b[0m 65ms/step - accuracy: 0.8560 - loss: 0.3039 - val_accuracy: 0.7747 - val_loss: 0.3360 - learning_rate: 1.0000e-04\n",
      "Epoch 42/150\n",
      "\u001b[1m131/131\u001b[0m \u001b[32m━━━━━━━━━━━━━━━━━━━━\u001b[0m\u001b[37m\u001b[0m \u001b[1m8s\u001b[0m 62ms/step - accuracy: 0.8546 - loss: 0.3036 - val_accuracy: 0.7751 - val_loss: 0.3368 - learning_rate: 1.0000e-04\n",
      "Epoch 43/150\n",
      "\u001b[1m131/131\u001b[0m \u001b[32m━━━━━━━━━━━━━━━━━━━━\u001b[0m\u001b[37m\u001b[0m \u001b[1m8s\u001b[0m 61ms/step - accuracy: 0.8643 - loss: 0.3036 - val_accuracy: 0.7799 - val_loss: 0.3365 - learning_rate: 1.0000e-04\n",
      "Epoch 44/150\n",
      "\u001b[1m131/131\u001b[0m \u001b[32m━━━━━━━━━━━━━━━━━━━━\u001b[0m\u001b[37m\u001b[0m \u001b[1m8s\u001b[0m 64ms/step - accuracy: 0.8611 - loss: 0.3036 - val_accuracy: 0.7747 - val_loss: 0.3366 - learning_rate: 1.0000e-04\n",
      "Epoch 45/150\n",
      "\u001b[1m131/131\u001b[0m \u001b[32m━━━━━━━━━━━━━━━━━━━━\u001b[0m\u001b[37m\u001b[0m \u001b[1m8s\u001b[0m 58ms/step - accuracy: 0.8600 - loss: 0.3038 - val_accuracy: 0.7785 - val_loss: 0.3365 - learning_rate: 1.0000e-04\n",
      "Epoch 46/150\n",
      "\u001b[1m131/131\u001b[0m \u001b[32m━━━━━━━━━━━━━━━━━━━━\u001b[0m\u001b[37m\u001b[0m \u001b[1m8s\u001b[0m 59ms/step - accuracy: 0.8562 - loss: 0.3035 - val_accuracy: 0.7785 - val_loss: 0.3363 - learning_rate: 1.0000e-04\n",
      "Epoch 47/150\n",
      "\u001b[1m131/131\u001b[0m \u001b[32m━━━━━━━━━━━━━━━━━━━━\u001b[0m\u001b[37m\u001b[0m \u001b[1m8s\u001b[0m 60ms/step - accuracy: 0.8661 - loss: 0.3033 - val_accuracy: 0.7751 - val_loss: 0.3369 - learning_rate: 1.0000e-04\n",
      "Epoch 48/150\n",
      "\u001b[1m131/131\u001b[0m \u001b[32m━━━━━━━━━━━━━━━━━━━━\u001b[0m\u001b[37m\u001b[0m \u001b[1m8s\u001b[0m 58ms/step - accuracy: 0.8645 - loss: 0.3035 - val_accuracy: 0.7770 - val_loss: 0.3385 - learning_rate: 1.0000e-04\n",
      "Epoch 49/150\n",
      "\u001b[1m131/131\u001b[0m \u001b[32m━━━━━━━━━━━━━━━━━━━━\u001b[0m\u001b[37m\u001b[0m \u001b[1m8s\u001b[0m 58ms/step - accuracy: 0.8608 - loss: 0.3033 - val_accuracy: 0.7761 - val_loss: 0.3369 - learning_rate: 1.0000e-04\n",
      "Epoch 50/150\n",
      "\u001b[1m131/131\u001b[0m \u001b[32m━━━━━━━━━━━━━━━━━━━━\u001b[0m\u001b[37m\u001b[0m \u001b[1m8s\u001b[0m 59ms/step - accuracy: 0.8607 - loss: 0.3031 - val_accuracy: 0.7751 - val_loss: 0.3370 - learning_rate: 1.0000e-04\n",
      "Epoch 51/150\n",
      "\u001b[1m131/131\u001b[0m \u001b[32m━━━━━━━━━━━━━━━━━━━━\u001b[0m\u001b[37m\u001b[0m \u001b[1m8s\u001b[0m 60ms/step - accuracy: 0.8636 - loss: 0.3030 - val_accuracy: 0.7723 - val_loss: 0.3363 - learning_rate: 1.0000e-04\n",
      "Epoch 52/150\n",
      "\u001b[1m131/131\u001b[0m \u001b[32m━━━━━━━━━━━━━━━━━━━━\u001b[0m\u001b[37m\u001b[0m \u001b[1m8s\u001b[0m 59ms/step - accuracy: 0.8623 - loss: 0.3028 - val_accuracy: 0.7737 - val_loss: 0.3369 - learning_rate: 1.0000e-04\n",
      "Epoch 53/150\n",
      "\u001b[1m131/131\u001b[0m \u001b[32m━━━━━━━━━━━━━━━━━━━━\u001b[0m\u001b[37m\u001b[0m \u001b[1m8s\u001b[0m 60ms/step - accuracy: 0.8627 - loss: 0.3028 - val_accuracy: 0.7861 - val_loss: 0.3373 - learning_rate: 1.0000e-04\n",
      "Epoch 54/150\n",
      "\u001b[1m131/131\u001b[0m \u001b[32m━━━━━━━━━━━━━━━━━━━━\u001b[0m\u001b[37m\u001b[0m \u001b[1m8s\u001b[0m 60ms/step - accuracy: 0.8632 - loss: 0.3025 - val_accuracy: 0.7751 - val_loss: 0.3373 - learning_rate: 1.0000e-04\n",
      "Epoch 54: early stopping\n",
      "Restoring model weights from the end of the best epoch: 34.\n",
      "CPU times: total: 7min\n",
      "Wall time: 7min 50s\n"
     ]
    }
   ],
   "source": [
    "%%time\n",
    "# Train the model\n",
    "history= model.fit(X_train, y_train,\n",
    "                          epochs=EPOCHS,\n",
    "                          batch_size=BATCH_SIZE,\n",
    "                          validation_data=(X_test, y_test),\n",
    "                          callbacks=[early_stop, reduce_lr],\n",
    "                          verbose=1)"
   ]
  },
  {
   "cell_type": "code",
   "execution_count": 258,
   "metadata": {
    "ExecuteTime": {
     "end_time": "2024-05-25T12:10:45.146369500Z",
     "start_time": "2024-05-25T12:10:44.617532500Z"
    },
    "collapsed": false,
    "jupyter": {
     "outputs_hidden": false
    }
   },
   "outputs": [
    {
     "name": "stdout",
     "output_type": "stream",
     "text": [
      "\u001b[1m66/66\u001b[0m \u001b[32m━━━━━━━━━━━━━━━━━━━━\u001b[0m\u001b[37m\u001b[0m \u001b[1m0s\u001b[0m 7ms/step - accuracy: 0.7872 - loss: 0.3389\n",
      "Validation Loss: 0.33523592352867126\n",
      "Validation Accuracy: 0.7813244462013245\n"
     ]
    }
   ],
   "source": [
    "# Evaluate the model\n",
    "loss, accuracy = model.evaluate(X_test, y_test, verbose=1)\n",
    "print(f'Validation Loss: {loss}')\n",
    "print(f'Validation Accuracy: {accuracy}')"
   ]
  },
  {
   "cell_type": "code",
   "execution_count": 259,
   "metadata": {
    "ExecuteTime": {
     "end_time": "2024-05-25T12:10:46.698276900Z",
     "start_time": "2024-05-25T12:10:46.449872Z"
    },
    "collapsed": false,
    "jupyter": {
     "outputs_hidden": false
    }
   },
   "outputs": [
    {
     "data": {
      "image/png": "[encoded data removed]",
      "text/plain": [
       "<Figure size 1200x400 with 2 Axes>"
      ]
     },
     "metadata": {},
     "output_type": "display_data"
    }
   ],
   "source": [
    "plot_training_history(history)"
   ]
  },
  {
   "cell_type": "code",
   "execution_count": 266,
   "metadata": {
    "ExecuteTime": {
     "end_time": "2024-05-25T12:13:07.385791700Z",
     "start_time": "2024-05-25T12:13:07.064777400Z"
    },
    "collapsed": false,
    "jupyter": {
     "outputs_hidden": false
    }
   },
   "outputs": [
    {
     "name": "stdout",
     "output_type": "stream",
     "text": [
      "Sentence: All immigrants are criminals and should go back to their country.\n",
      "\u001b[1m1/1\u001b[0m \u001b[32m━━━━━━━━━━━━━━━━━━━━\u001b[0m\u001b[37m\u001b[0m \u001b[1m0s\u001b[0m 16ms/step\n",
      "Racism Probability: 0.2660\n",
      "Xenophobia Probability: 0.7538\n",
      "--------------\n",
      "Sentence: Black people are inferior and responsible for crime.\n",
      "\u001b[1m1/1\u001b[0m \u001b[32m━━━━━━━━━━━━━━━━━━━━\u001b[0m\u001b[37m\u001b[0m \u001b[1m0s\u001b[0m 16ms/step\n",
      "Racism Probability: 0.9087\n",
      "Xenophobia Probability: 0.0642\n",
      "--------------\n",
      "Sentence: White people are superior to other races and should rule.\n",
      "\u001b[1m1/1\u001b[0m \u001b[32m━━━━━━━━━━━━━━━━━━━━\u001b[0m\u001b[37m\u001b[0m \u001b[1m0s\u001b[0m 16ms/step\n",
      "Racism Probability: 0.8661\n",
      "Xenophobia Probability: 0.0813\n",
      "--------------\n",
      "Sentence: The new restaurant in town serves delicious food.\n",
      "\u001b[1m1/1\u001b[0m \u001b[32m━━━━━━━━━━━━━━━━━━━━\u001b[0m\u001b[37m\u001b[0m \u001b[1m0s\u001b[0m 24ms/step\n",
      "Racism Probability: 0.0321\n",
      "Xenophobia Probability: 0.0508\n",
      "--------------\n",
      "Sentence: I'm excited for upcoming football match.\n",
      "\u001b[1m1/1\u001b[0m \u001b[32m━━━━━━━━━━━━━━━━━━━━\u001b[0m\u001b[37m\u001b[0m \u001b[1m0s\u001b[0m 16ms/step\n",
      "Racism Probability: 0.1303\n",
      "Xenophobia Probability: 0.0857\n",
      "--------------\n",
      "Sentence: I love playing video games.\n",
      "\u001b[1m1/1\u001b[0m \u001b[32m━━━━━━━━━━━━━━━━━━━━\u001b[0m\u001b[37m\u001b[0m \u001b[1m0s\u001b[0m 24ms/step\n",
      "Racism Probability: 0.0069\n",
      "Xenophobia Probability: 0.0204\n",
      "--------------\n"
     ]
    }
   ],
   "source": [
    "text_predict(model=model,tokenizer=tokenizer)"
   ]
  },
  {
   "cell_type": "code",
   "execution_count": null,
   "metadata": {
    "collapsed": false,
    "jupyter": {
     "outputs_hidden": false
    }
   },
   "outputs": [],
   "source": []
  }
 ],
 "metadata": {
  "colab": {
   "provenance": []
  },
  "kernelspec": {
   "display_name": "Python 3 (ipykernel)",
   "language": "python",
   "name": "python3"
  },
  "language_info": {
   "codemirror_mode": {
    "name": "ipython",
    "version": 3
   },
   "file_extension": ".py",
   "mimetype": "text/x-python",
   "name": "python",
   "nbconvert_exporter": "python",
   "pygments_lexer": "ipython3",
   "version": "3.12.0"
  }
 },
 "nbformat": 4,
 "nbformat_minor": 4
}
